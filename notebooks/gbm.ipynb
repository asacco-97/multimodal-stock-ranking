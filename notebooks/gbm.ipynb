{
 "cells": [
  {
   "cell_type": "markdown",
   "id": "ec90ed6b",
   "metadata": {},
   "source": [
    "# GBM\n",
    "- Data Split \n",
    "    - Apply 80/20 split by Ticker\n",
    "    - For calculating performance, use 5 fold cross validation (RMSE, Accuracy (1 if positive, 0 if not))\n",
    "- Build GBM by Ticker"
   ]
  },
  {
   "cell_type": "code",
   "execution_count": 422,
   "id": "51e3b177",
   "metadata": {},
   "outputs": [],
   "source": [
    "import xgboost\n",
    "import pandas as pd\n",
    "import numpy as np\n",
    "import seaborn as sns\n",
    "import matplotlib.pyplot as plt"
   ]
  },
  {
   "cell_type": "code",
   "execution_count": 423,
   "id": "93359319",
   "metadata": {},
   "outputs": [],
   "source": [
    "TICKER = \"JPM\"\n",
    "TEST_FRAC = 0.20\n",
    "RESPONSE_VAR = \"close_t+5\""
   ]
  },
  {
   "cell_type": "code",
   "execution_count": 424,
   "id": "c06694af",
   "metadata": {},
   "outputs": [],
   "source": [
    "df = pd.read_parquet(\"../data/processed/daily_with_finbert_and_indicators.parquet\")"
   ]
  },
  {
   "cell_type": "code",
   "execution_count": 425,
   "id": "1b140283",
   "metadata": {},
   "outputs": [
    {
     "data": {
      "text/plain": [
       "array(['AAPL', 'AMZN', 'HD', 'JPM', 'KO', 'MSFT', 'NVDA', 'TSLA', 'UNH',\n",
       "       'XOM'], dtype=object)"
      ]
     },
     "execution_count": 425,
     "metadata": {},
     "output_type": "execute_result"
    }
   ],
   "source": [
    "df[\"ticker\"].unique()"
   ]
  },
  {
   "cell_type": "code",
   "execution_count": 426,
   "id": "afdc3779",
   "metadata": {},
   "outputs": [],
   "source": [
    "df = df.query(f\"ticker == '{TICKER}'\").reset_index(drop=True)"
   ]
  },
  {
   "cell_type": "code",
   "execution_count": 427,
   "id": "d717c8bd",
   "metadata": {},
   "outputs": [
    {
     "data": {
      "text/plain": [
       "(249, 805)"
      ]
     },
     "execution_count": 427,
     "metadata": {},
     "output_type": "execute_result"
    }
   ],
   "source": [
    "df.shape"
   ]
  },
  {
   "cell_type": "code",
   "execution_count": 428,
   "id": "a3c8c032",
   "metadata": {},
   "outputs": [
    {
     "data": {
      "text/html": [
       "<div>\n",
       "<style scoped>\n",
       "    .dataframe tbody tr th:only-of-type {\n",
       "        vertical-align: middle;\n",
       "    }\n",
       "\n",
       "    .dataframe tbody tr th {\n",
       "        vertical-align: top;\n",
       "    }\n",
       "\n",
       "    .dataframe thead th {\n",
       "        text-align: right;\n",
       "    }\n",
       "</style>\n",
       "<table border=\"1\" class=\"dataframe\">\n",
       "  <thead>\n",
       "    <tr style=\"text-align: right;\">\n",
       "      <th></th>\n",
       "      <th>ticker</th>\n",
       "      <th>date</th>\n",
       "      <th>open</th>\n",
       "      <th>high</th>\n",
       "      <th>low</th>\n",
       "      <th>close</th>\n",
       "      <th>volume</th>\n",
       "      <th>return_t+1</th>\n",
       "      <th>headlines</th>\n",
       "      <th>finbert_0</th>\n",
       "      <th>...</th>\n",
       "      <th>open_smoothed_alpha:0.9</th>\n",
       "      <th>close_smoothed_alpha:0.25</th>\n",
       "      <th>close_smoothed_alpha:0.75</th>\n",
       "      <th>close_smoothed_alpha:0.9</th>\n",
       "      <th>return_t+1_smoothed_alpha:0.25</th>\n",
       "      <th>return_smoothed_alpha:0.25</th>\n",
       "      <th>return_t+1_smoothed_alpha:0.75</th>\n",
       "      <th>return_smoothed_alpha:0.75</th>\n",
       "      <th>return_t+1_smoothed_alpha:0.9</th>\n",
       "      <th>return_smoothed_alpha:0.9</th>\n",
       "    </tr>\n",
       "  </thead>\n",
       "  <tbody>\n",
       "    <tr>\n",
       "      <th>0</th>\n",
       "      <td>JPM</td>\n",
       "      <td>2024-05-01</td>\n",
       "      <td>192.270004</td>\n",
       "      <td>194.460007</td>\n",
       "      <td>190.789993</td>\n",
       "      <td>191.860001</td>\n",
       "      <td>7445300.0</td>\n",
       "      <td>-0.001042</td>\n",
       "      <td>[]</td>\n",
       "      <td>0.000000</td>\n",
       "      <td>...</td>\n",
       "      <td>192.270004</td>\n",
       "      <td>191.860001</td>\n",
       "      <td>191.860001</td>\n",
       "      <td>191.860001</td>\n",
       "      <td>-0.001042</td>\n",
       "      <td>0.002769</td>\n",
       "      <td>-0.001042</td>\n",
       "      <td>0.004086</td>\n",
       "      <td>-0.001042</td>\n",
       "      <td>0.004239</td>\n",
       "    </tr>\n",
       "    <tr>\n",
       "      <th>1</th>\n",
       "      <td>JPM</td>\n",
       "      <td>2024-05-02</td>\n",
       "      <td>193.070007</td>\n",
       "      <td>193.500000</td>\n",
       "      <td>189.520004</td>\n",
       "      <td>191.660004</td>\n",
       "      <td>6501700.0</td>\n",
       "      <td>-0.006000</td>\n",
       "      <td>[]</td>\n",
       "      <td>0.000000</td>\n",
       "      <td>...</td>\n",
       "      <td>192.990007</td>\n",
       "      <td>191.810001</td>\n",
       "      <td>191.710003</td>\n",
       "      <td>191.680003</td>\n",
       "      <td>-0.002282</td>\n",
       "      <td>-0.001042</td>\n",
       "      <td>-0.004761</td>\n",
       "      <td>-0.001042</td>\n",
       "      <td>-0.005504</td>\n",
       "      <td>-0.001042</td>\n",
       "    </tr>\n",
       "    <tr>\n",
       "      <th>2</th>\n",
       "      <td>JPM</td>\n",
       "      <td>2024-05-03</td>\n",
       "      <td>192.000000</td>\n",
       "      <td>192.529999</td>\n",
       "      <td>188.460007</td>\n",
       "      <td>190.509995</td>\n",
       "      <td>8922800.0</td>\n",
       "      <td>0.007821</td>\n",
       "      <td>[]</td>\n",
       "      <td>0.000000</td>\n",
       "      <td>...</td>\n",
       "      <td>192.099001</td>\n",
       "      <td>191.485000</td>\n",
       "      <td>190.809997</td>\n",
       "      <td>190.626995</td>\n",
       "      <td>0.000244</td>\n",
       "      <td>-0.002282</td>\n",
       "      <td>0.004676</td>\n",
       "      <td>-0.004761</td>\n",
       "      <td>0.006489</td>\n",
       "      <td>-0.005504</td>\n",
       "    </tr>\n",
       "    <tr>\n",
       "      <th>3</th>\n",
       "      <td>JPM</td>\n",
       "      <td>2024-05-06</td>\n",
       "      <td>191.729996</td>\n",
       "      <td>192.199997</td>\n",
       "      <td>189.820007</td>\n",
       "      <td>192.000000</td>\n",
       "      <td>7911100.0</td>\n",
       "      <td>-0.001302</td>\n",
       "      <td>[]</td>\n",
       "      <td>0.000000</td>\n",
       "      <td>...</td>\n",
       "      <td>191.766896</td>\n",
       "      <td>191.613750</td>\n",
       "      <td>191.702499</td>\n",
       "      <td>191.862700</td>\n",
       "      <td>-0.000143</td>\n",
       "      <td>0.000244</td>\n",
       "      <td>0.000192</td>\n",
       "      <td>0.004676</td>\n",
       "      <td>-0.000523</td>\n",
       "      <td>0.006489</td>\n",
       "    </tr>\n",
       "    <tr>\n",
       "      <th>4</th>\n",
       "      <td>JPM</td>\n",
       "      <td>2024-05-07</td>\n",
       "      <td>191.699997</td>\n",
       "      <td>192.929993</td>\n",
       "      <td>191.649994</td>\n",
       "      <td>191.750000</td>\n",
       "      <td>7688800.0</td>\n",
       "      <td>0.020339</td>\n",
       "      <td>[JPMorgan just gave itself an $8 billion boost...</td>\n",
       "      <td>0.243642</td>\n",
       "      <td>...</td>\n",
       "      <td>191.706687</td>\n",
       "      <td>191.647812</td>\n",
       "      <td>191.738125</td>\n",
       "      <td>191.761270</td>\n",
       "      <td>0.004978</td>\n",
       "      <td>-0.000143</td>\n",
       "      <td>0.015302</td>\n",
       "      <td>0.000192</td>\n",
       "      <td>0.018253</td>\n",
       "      <td>-0.000523</td>\n",
       "    </tr>\n",
       "  </tbody>\n",
       "</table>\n",
       "<p>5 rows × 805 columns</p>\n",
       "</div>"
      ],
      "text/plain": [
       "  ticker        date        open        high         low       close  \\\n",
       "0    JPM  2024-05-01  192.270004  194.460007  190.789993  191.860001   \n",
       "1    JPM  2024-05-02  193.070007  193.500000  189.520004  191.660004   \n",
       "2    JPM  2024-05-03  192.000000  192.529999  188.460007  190.509995   \n",
       "3    JPM  2024-05-06  191.729996  192.199997  189.820007  192.000000   \n",
       "4    JPM  2024-05-07  191.699997  192.929993  191.649994  191.750000   \n",
       "\n",
       "      volume  return_t+1                                          headlines  \\\n",
       "0  7445300.0   -0.001042                                                 []   \n",
       "1  6501700.0   -0.006000                                                 []   \n",
       "2  8922800.0    0.007821                                                 []   \n",
       "3  7911100.0   -0.001302                                                 []   \n",
       "4  7688800.0    0.020339  [JPMorgan just gave itself an $8 billion boost...   \n",
       "\n",
       "   finbert_0  ...  open_smoothed_alpha:0.9  close_smoothed_alpha:0.25  \\\n",
       "0   0.000000  ...               192.270004                 191.860001   \n",
       "1   0.000000  ...               192.990007                 191.810001   \n",
       "2   0.000000  ...               192.099001                 191.485000   \n",
       "3   0.000000  ...               191.766896                 191.613750   \n",
       "4   0.243642  ...               191.706687                 191.647812   \n",
       "\n",
       "   close_smoothed_alpha:0.75  close_smoothed_alpha:0.9  \\\n",
       "0                 191.860001                191.860001   \n",
       "1                 191.710003                191.680003   \n",
       "2                 190.809997                190.626995   \n",
       "3                 191.702499                191.862700   \n",
       "4                 191.738125                191.761270   \n",
       "\n",
       "   return_t+1_smoothed_alpha:0.25  return_smoothed_alpha:0.25  \\\n",
       "0                       -0.001042                    0.002769   \n",
       "1                       -0.002282                   -0.001042   \n",
       "2                        0.000244                   -0.002282   \n",
       "3                       -0.000143                    0.000244   \n",
       "4                        0.004978                   -0.000143   \n",
       "\n",
       "   return_t+1_smoothed_alpha:0.75  return_smoothed_alpha:0.75  \\\n",
       "0                       -0.001042                    0.004086   \n",
       "1                       -0.004761                   -0.001042   \n",
       "2                        0.004676                   -0.004761   \n",
       "3                        0.000192                    0.004676   \n",
       "4                        0.015302                    0.000192   \n",
       "\n",
       "   return_t+1_smoothed_alpha:0.9  return_smoothed_alpha:0.9  \n",
       "0                      -0.001042                   0.004239  \n",
       "1                      -0.005504                  -0.001042  \n",
       "2                       0.006489                  -0.005504  \n",
       "3                      -0.000523                   0.006489  \n",
       "4                       0.018253                  -0.000523  \n",
       "\n",
       "[5 rows x 805 columns]"
      ]
     },
     "execution_count": 428,
     "metadata": {},
     "output_type": "execute_result"
    }
   ],
   "source": [
    "df.head()"
   ]
  },
  {
   "cell_type": "code",
   "execution_count": 429,
   "id": "e9446742",
   "metadata": {},
   "outputs": [
    {
     "data": {
      "text/html": [
       "<div>\n",
       "<style scoped>\n",
       "    .dataframe tbody tr th:only-of-type {\n",
       "        vertical-align: middle;\n",
       "    }\n",
       "\n",
       "    .dataframe tbody tr th {\n",
       "        vertical-align: top;\n",
       "    }\n",
       "\n",
       "    .dataframe thead th {\n",
       "        text-align: right;\n",
       "    }\n",
       "</style>\n",
       "<table border=\"1\" class=\"dataframe\">\n",
       "  <thead>\n",
       "    <tr style=\"text-align: right;\">\n",
       "      <th></th>\n",
       "      <th>ticker</th>\n",
       "      <th>date</th>\n",
       "      <th>open</th>\n",
       "      <th>high</th>\n",
       "      <th>low</th>\n",
       "      <th>close</th>\n",
       "      <th>volume</th>\n",
       "      <th>return_t+1</th>\n",
       "      <th>headlines</th>\n",
       "      <th>finbert_0</th>\n",
       "      <th>...</th>\n",
       "      <th>open_smoothed_alpha:0.9</th>\n",
       "      <th>close_smoothed_alpha:0.25</th>\n",
       "      <th>close_smoothed_alpha:0.75</th>\n",
       "      <th>close_smoothed_alpha:0.9</th>\n",
       "      <th>return_t+1_smoothed_alpha:0.25</th>\n",
       "      <th>return_smoothed_alpha:0.25</th>\n",
       "      <th>return_t+1_smoothed_alpha:0.75</th>\n",
       "      <th>return_smoothed_alpha:0.75</th>\n",
       "      <th>return_t+1_smoothed_alpha:0.9</th>\n",
       "      <th>return_smoothed_alpha:0.9</th>\n",
       "    </tr>\n",
       "  </thead>\n",
       "  <tbody>\n",
       "    <tr>\n",
       "      <th>244</th>\n",
       "      <td>JPM</td>\n",
       "      <td>2025-04-23</td>\n",
       "      <td>240.220001</td>\n",
       "      <td>246.789993</td>\n",
       "      <td>240.000000</td>\n",
       "      <td>240.880005</td>\n",
       "      <td>14126800.0</td>\n",
       "      <td>0.015609</td>\n",
       "      <td>[Ultimate Insider Marjorie Taylor Greene’s Top...</td>\n",
       "      <td>0.280930</td>\n",
       "      <td>...</td>\n",
       "      <td>239.382832</td>\n",
       "      <td>234.168409</td>\n",
       "      <td>239.186018</td>\n",
       "      <td>240.287776</td>\n",
       "      <td>0.011279</td>\n",
       "      <td>0.009835</td>\n",
       "      <td>0.017136</td>\n",
       "      <td>0.021716</td>\n",
       "      <td>0.016318</td>\n",
       "      <td>0.022695</td>\n",
       "    </tr>\n",
       "    <tr>\n",
       "      <th>245</th>\n",
       "      <td>JPM</td>\n",
       "      <td>2025-04-24</td>\n",
       "      <td>239.740005</td>\n",
       "      <td>245.470001</td>\n",
       "      <td>237.580002</td>\n",
       "      <td>244.639999</td>\n",
       "      <td>9055200.0</td>\n",
       "      <td>-0.004456</td>\n",
       "      <td>[Stocks Fluctuate on Tariff Concern as Dollar ...</td>\n",
       "      <td>0.088710</td>\n",
       "      <td>...</td>\n",
       "      <td>239.704288</td>\n",
       "      <td>236.786306</td>\n",
       "      <td>243.276504</td>\n",
       "      <td>244.204777</td>\n",
       "      <td>0.007345</td>\n",
       "      <td>0.011279</td>\n",
       "      <td>0.000942</td>\n",
       "      <td>0.017136</td>\n",
       "      <td>-0.002378</td>\n",
       "      <td>0.016318</td>\n",
       "    </tr>\n",
       "    <tr>\n",
       "      <th>246</th>\n",
       "      <td>JPM</td>\n",
       "      <td>2025-04-25</td>\n",
       "      <td>244.649994</td>\n",
       "      <td>245.619995</td>\n",
       "      <td>241.750000</td>\n",
       "      <td>243.550003</td>\n",
       "      <td>8588600.0</td>\n",
       "      <td>-0.001355</td>\n",
       "      <td>[EVT: Attractive Discount Combined With Market...</td>\n",
       "      <td>-0.006047</td>\n",
       "      <td>...</td>\n",
       "      <td>244.155423</td>\n",
       "      <td>238.477230</td>\n",
       "      <td>243.481628</td>\n",
       "      <td>243.615480</td>\n",
       "      <td>0.005170</td>\n",
       "      <td>0.007345</td>\n",
       "      <td>-0.000781</td>\n",
       "      <td>0.000942</td>\n",
       "      <td>-0.001457</td>\n",
       "      <td>-0.002378</td>\n",
       "    </tr>\n",
       "    <tr>\n",
       "      <th>247</th>\n",
       "      <td>JPM</td>\n",
       "      <td>2025-04-28</td>\n",
       "      <td>244.559998</td>\n",
       "      <td>246.839996</td>\n",
       "      <td>240.839996</td>\n",
       "      <td>243.220001</td>\n",
       "      <td>7394300.0</td>\n",
       "      <td>0.005756</td>\n",
       "      <td>[US Boosts Net Quarterly Borrowing Estimate to...</td>\n",
       "      <td>-0.054886</td>\n",
       "      <td>...</td>\n",
       "      <td>244.519540</td>\n",
       "      <td>239.662923</td>\n",
       "      <td>243.285408</td>\n",
       "      <td>243.259549</td>\n",
       "      <td>0.005317</td>\n",
       "      <td>0.005170</td>\n",
       "      <td>0.004122</td>\n",
       "      <td>-0.000781</td>\n",
       "      <td>0.005035</td>\n",
       "      <td>-0.001457</td>\n",
       "    </tr>\n",
       "    <tr>\n",
       "      <th>248</th>\n",
       "      <td>JPM</td>\n",
       "      <td>2025-04-29</td>\n",
       "      <td>242.190002</td>\n",
       "      <td>245.250000</td>\n",
       "      <td>241.690002</td>\n",
       "      <td>244.619995</td>\n",
       "      <td>7216800.0</td>\n",
       "      <td>0.000000</td>\n",
       "      <td>[Oil Tumbles as Trump’s Trade War Pummels Outl...</td>\n",
       "      <td>0.030770</td>\n",
       "      <td>...</td>\n",
       "      <td>242.422956</td>\n",
       "      <td>240.902191</td>\n",
       "      <td>244.286348</td>\n",
       "      <td>244.483951</td>\n",
       "      <td>0.003988</td>\n",
       "      <td>0.005317</td>\n",
       "      <td>0.001030</td>\n",
       "      <td>0.004122</td>\n",
       "      <td>0.000503</td>\n",
       "      <td>0.005035</td>\n",
       "    </tr>\n",
       "  </tbody>\n",
       "</table>\n",
       "<p>5 rows × 805 columns</p>\n",
       "</div>"
      ],
      "text/plain": [
       "    ticker        date        open        high         low       close  \\\n",
       "244    JPM  2025-04-23  240.220001  246.789993  240.000000  240.880005   \n",
       "245    JPM  2025-04-24  239.740005  245.470001  237.580002  244.639999   \n",
       "246    JPM  2025-04-25  244.649994  245.619995  241.750000  243.550003   \n",
       "247    JPM  2025-04-28  244.559998  246.839996  240.839996  243.220001   \n",
       "248    JPM  2025-04-29  242.190002  245.250000  241.690002  244.619995   \n",
       "\n",
       "         volume  return_t+1  \\\n",
       "244  14126800.0    0.015609   \n",
       "245   9055200.0   -0.004456   \n",
       "246   8588600.0   -0.001355   \n",
       "247   7394300.0    0.005756   \n",
       "248   7216800.0    0.000000   \n",
       "\n",
       "                                             headlines  finbert_0  ...  \\\n",
       "244  [Ultimate Insider Marjorie Taylor Greene’s Top...   0.280930  ...   \n",
       "245  [Stocks Fluctuate on Tariff Concern as Dollar ...   0.088710  ...   \n",
       "246  [EVT: Attractive Discount Combined With Market...  -0.006047  ...   \n",
       "247  [US Boosts Net Quarterly Borrowing Estimate to...  -0.054886  ...   \n",
       "248  [Oil Tumbles as Trump’s Trade War Pummels Outl...   0.030770  ...   \n",
       "\n",
       "     open_smoothed_alpha:0.9  close_smoothed_alpha:0.25  \\\n",
       "244               239.382832                 234.168409   \n",
       "245               239.704288                 236.786306   \n",
       "246               244.155423                 238.477230   \n",
       "247               244.519540                 239.662923   \n",
       "248               242.422956                 240.902191   \n",
       "\n",
       "     close_smoothed_alpha:0.75  close_smoothed_alpha:0.9  \\\n",
       "244                 239.186018                240.287776   \n",
       "245                 243.276504                244.204777   \n",
       "246                 243.481628                243.615480   \n",
       "247                 243.285408                243.259549   \n",
       "248                 244.286348                244.483951   \n",
       "\n",
       "     return_t+1_smoothed_alpha:0.25  return_smoothed_alpha:0.25  \\\n",
       "244                        0.011279                    0.009835   \n",
       "245                        0.007345                    0.011279   \n",
       "246                        0.005170                    0.007345   \n",
       "247                        0.005317                    0.005170   \n",
       "248                        0.003988                    0.005317   \n",
       "\n",
       "     return_t+1_smoothed_alpha:0.75  return_smoothed_alpha:0.75  \\\n",
       "244                        0.017136                    0.021716   \n",
       "245                        0.000942                    0.017136   \n",
       "246                       -0.000781                    0.000942   \n",
       "247                        0.004122                   -0.000781   \n",
       "248                        0.001030                    0.004122   \n",
       "\n",
       "     return_t+1_smoothed_alpha:0.9  return_smoothed_alpha:0.9  \n",
       "244                       0.016318                   0.022695  \n",
       "245                      -0.002378                   0.016318  \n",
       "246                      -0.001457                  -0.002378  \n",
       "247                       0.005035                  -0.001457  \n",
       "248                       0.000503                   0.005035  \n",
       "\n",
       "[5 rows x 805 columns]"
      ]
     },
     "execution_count": 429,
     "metadata": {},
     "output_type": "execute_result"
    }
   ],
   "source": [
    "df.tail()"
   ]
  },
  {
   "cell_type": "code",
   "execution_count": null,
   "id": "285c48a4",
   "metadata": {},
   "outputs": [],
   "source": []
  },
  {
   "cell_type": "markdown",
   "id": "8338e707",
   "metadata": {},
   "source": [
    "## Add Close @ T+1 as a variable to test modeling"
   ]
  },
  {
   "cell_type": "code",
   "execution_count": 430,
   "id": "dae0a702",
   "metadata": {},
   "outputs": [],
   "source": [
    "for lag in range(1, 6):\n",
    "    df[f\"close_t+{lag}\"] = df[\"close\"].shift(-lag)"
   ]
  },
  {
   "cell_type": "code",
   "execution_count": 431,
   "id": "e402dddc",
   "metadata": {},
   "outputs": [
    {
     "data": {
      "text/html": [
       "<div>\n",
       "<style scoped>\n",
       "    .dataframe tbody tr th:only-of-type {\n",
       "        vertical-align: middle;\n",
       "    }\n",
       "\n",
       "    .dataframe tbody tr th {\n",
       "        vertical-align: top;\n",
       "    }\n",
       "\n",
       "    .dataframe thead th {\n",
       "        text-align: right;\n",
       "    }\n",
       "</style>\n",
       "<table border=\"1\" class=\"dataframe\">\n",
       "  <thead>\n",
       "    <tr style=\"text-align: right;\">\n",
       "      <th></th>\n",
       "      <th>close</th>\n",
       "      <th>close_t+1</th>\n",
       "      <th>close_t+3</th>\n",
       "      <th>close_t+5</th>\n",
       "    </tr>\n",
       "  </thead>\n",
       "  <tbody>\n",
       "    <tr>\n",
       "      <th>0</th>\n",
       "      <td>191.860001</td>\n",
       "      <td>191.660004</td>\n",
       "      <td>192.000000</td>\n",
       "      <td>195.649994</td>\n",
       "    </tr>\n",
       "    <tr>\n",
       "      <th>1</th>\n",
       "      <td>191.660004</td>\n",
       "      <td>190.509995</td>\n",
       "      <td>191.750000</td>\n",
       "      <td>197.500000</td>\n",
       "    </tr>\n",
       "    <tr>\n",
       "      <th>2</th>\n",
       "      <td>190.509995</td>\n",
       "      <td>192.000000</td>\n",
       "      <td>195.649994</td>\n",
       "      <td>198.770004</td>\n",
       "    </tr>\n",
       "    <tr>\n",
       "      <th>3</th>\n",
       "      <td>192.000000</td>\n",
       "      <td>191.750000</td>\n",
       "      <td>197.500000</td>\n",
       "      <td>198.729996</td>\n",
       "    </tr>\n",
       "    <tr>\n",
       "      <th>4</th>\n",
       "      <td>191.750000</td>\n",
       "      <td>195.649994</td>\n",
       "      <td>198.770004</td>\n",
       "      <td>201.509995</td>\n",
       "    </tr>\n",
       "    <tr>\n",
       "      <th>5</th>\n",
       "      <td>195.649994</td>\n",
       "      <td>197.500000</td>\n",
       "      <td>198.729996</td>\n",
       "      <td>202.110001</td>\n",
       "    </tr>\n",
       "    <tr>\n",
       "      <th>6</th>\n",
       "      <td>197.500000</td>\n",
       "      <td>198.770004</td>\n",
       "      <td>201.509995</td>\n",
       "      <td>202.470001</td>\n",
       "    </tr>\n",
       "    <tr>\n",
       "      <th>7</th>\n",
       "      <td>198.770004</td>\n",
       "      <td>198.729996</td>\n",
       "      <td>202.110001</td>\n",
       "      <td>204.789993</td>\n",
       "    </tr>\n",
       "    <tr>\n",
       "      <th>8</th>\n",
       "      <td>198.729996</td>\n",
       "      <td>201.509995</td>\n",
       "      <td>202.470001</td>\n",
       "      <td>195.580002</td>\n",
       "    </tr>\n",
       "    <tr>\n",
       "      <th>9</th>\n",
       "      <td>201.509995</td>\n",
       "      <td>202.110001</td>\n",
       "      <td>204.789993</td>\n",
       "      <td>199.520004</td>\n",
       "    </tr>\n",
       "  </tbody>\n",
       "</table>\n",
       "</div>"
      ],
      "text/plain": [
       "        close   close_t+1   close_t+3   close_t+5\n",
       "0  191.860001  191.660004  192.000000  195.649994\n",
       "1  191.660004  190.509995  191.750000  197.500000\n",
       "2  190.509995  192.000000  195.649994  198.770004\n",
       "3  192.000000  191.750000  197.500000  198.729996\n",
       "4  191.750000  195.649994  198.770004  201.509995\n",
       "5  195.649994  197.500000  198.729996  202.110001\n",
       "6  197.500000  198.770004  201.509995  202.470001\n",
       "7  198.770004  198.729996  202.110001  204.789993\n",
       "8  198.729996  201.509995  202.470001  195.580002\n",
       "9  201.509995  202.110001  204.789993  199.520004"
      ]
     },
     "execution_count": 431,
     "metadata": {},
     "output_type": "execute_result"
    }
   ],
   "source": [
    "df[[\"close\", \"close_t+1\", \"close_t+3\", \"close_t+5\"]].head(10)"
   ]
  },
  {
   "cell_type": "code",
   "execution_count": 432,
   "id": "e902dd61",
   "metadata": {},
   "outputs": [
    {
     "data": {
      "text/html": [
       "<div>\n",
       "<style scoped>\n",
       "    .dataframe tbody tr th:only-of-type {\n",
       "        vertical-align: middle;\n",
       "    }\n",
       "\n",
       "    .dataframe tbody tr th {\n",
       "        vertical-align: top;\n",
       "    }\n",
       "\n",
       "    .dataframe thead th {\n",
       "        text-align: right;\n",
       "    }\n",
       "</style>\n",
       "<table border=\"1\" class=\"dataframe\">\n",
       "  <thead>\n",
       "    <tr style=\"text-align: right;\">\n",
       "      <th></th>\n",
       "      <th>close</th>\n",
       "      <th>close_t+1</th>\n",
       "    </tr>\n",
       "  </thead>\n",
       "  <tbody>\n",
       "    <tr>\n",
       "      <th>244</th>\n",
       "      <td>240.880005</td>\n",
       "      <td>244.639999</td>\n",
       "    </tr>\n",
       "    <tr>\n",
       "      <th>245</th>\n",
       "      <td>244.639999</td>\n",
       "      <td>243.550003</td>\n",
       "    </tr>\n",
       "    <tr>\n",
       "      <th>246</th>\n",
       "      <td>243.550003</td>\n",
       "      <td>243.220001</td>\n",
       "    </tr>\n",
       "    <tr>\n",
       "      <th>247</th>\n",
       "      <td>243.220001</td>\n",
       "      <td>244.619995</td>\n",
       "    </tr>\n",
       "    <tr>\n",
       "      <th>248</th>\n",
       "      <td>244.619995</td>\n",
       "      <td>NaN</td>\n",
       "    </tr>\n",
       "  </tbody>\n",
       "</table>\n",
       "</div>"
      ],
      "text/plain": [
       "          close   close_t+1\n",
       "244  240.880005  244.639999\n",
       "245  244.639999  243.550003\n",
       "246  243.550003  243.220001\n",
       "247  243.220001  244.619995\n",
       "248  244.619995         NaN"
      ]
     },
     "execution_count": 432,
     "metadata": {},
     "output_type": "execute_result"
    }
   ],
   "source": [
    "df[[\"close\", \"close_t+1\"]].tail()"
   ]
  },
  {
   "cell_type": "code",
   "execution_count": 433,
   "id": "17348ee3",
   "metadata": {},
   "outputs": [],
   "source": [
    "df.dropna(subset=RESPONSE_VAR, inplace=True)"
   ]
  },
  {
   "cell_type": "markdown",
   "id": "98349bd0",
   "metadata": {},
   "source": [
    "### Apply data split\n",
    "- For initial test, build model on 80% and validate on 20% OOT\n",
    "    - Tune hyperparameters using CV on Train set\n",
    "\n",
    "- For future, always validate on most recent 2-months and add additional "
   ]
  },
  {
   "cell_type": "code",
   "execution_count": 434,
   "id": "7155bd10",
   "metadata": {},
   "outputs": [],
   "source": [
    "df = df.query(f\"ticker == '{TICKER}'\").reset_index(drop=True)"
   ]
  },
  {
   "cell_type": "code",
   "execution_count": 435,
   "id": "9c9f0c3c",
   "metadata": {},
   "outputs": [],
   "source": [
    "df = df.sort_values(\"date\")"
   ]
  },
  {
   "cell_type": "code",
   "execution_count": 436,
   "id": "5414bad5",
   "metadata": {},
   "outputs": [],
   "source": [
    "train = df.loc[df.index <= int(df.shape[0] * (1 - TEST_FRAC)), :]\n",
    "test = df.loc[df.index > int(df.shape[0] * (1 - TEST_FRAC)), :]"
   ]
  },
  {
   "cell_type": "code",
   "execution_count": 437,
   "id": "e5c183c3",
   "metadata": {},
   "outputs": [
    {
     "data": {
      "text/plain": [
       "((196, 810), (48, 810))"
      ]
     },
     "execution_count": 437,
     "metadata": {},
     "output_type": "execute_result"
    }
   ],
   "source": [
    "train.shape, test.shape"
   ]
  },
  {
   "cell_type": "markdown",
   "id": "59f73a2c",
   "metadata": {},
   "source": [
    "### Build initial model on `returns_t+1` \n",
    "- Use ARIMA as a baseline (and potentially use as a feature)\n",
    "- Test using `close_t+1` and `return_t+1_>0`"
   ]
  },
  {
   "cell_type": "code",
   "execution_count": 438,
   "id": "1bfda5fa",
   "metadata": {},
   "outputs": [
    {
     "name": "stdout",
     "output_type": "stream",
     "text": [
      "['headlines', 'return_t+1', 'return_t+1_smoothed_alpha:0.25', 'return_t+1_smoothed_alpha:0.75', 'return_t+1_smoothed_alpha:0.9', 'close_t+1']\n"
     ]
    }
   ],
   "source": [
    "keys = [\"ticker\", \"date\"]\n",
    "non_modeling_vars = [\"headlines\", *[col for col in df.columns if \"t+1\" in col]]\n",
    "print(non_modeling_vars)"
   ]
  },
  {
   "cell_type": "code",
   "execution_count": null,
   "id": "9a3a6b70",
   "metadata": {},
   "outputs": [
    {
     "name": "stdout",
     "output_type": "stream",
     "text": [
      "\n",
      "=== Fold 1 ===\n",
      "[0]\teval-rmse:191.12020\n",
      "[25]\teval-rmse:22.17896\n",
      "[50]\teval-rmse:6.39535\n",
      "[75]\teval-rmse:5.20891\n",
      "[100]\teval-rmse:5.09687\n",
      "[125]\teval-rmse:5.08832\n",
      "[150]\teval-rmse:5.08699\n",
      "[167]\teval-rmse:5.08687\n",
      "Fold RMSE: 5.0869\n",
      "\n",
      "=== Fold 2 ===\n",
      "[0]\teval-rmse:209.12014\n",
      "[25]\teval-rmse:33.75052\n",
      "[50]\teval-rmse:17.09401\n",
      "[75]\teval-rmse:15.12911\n",
      "[100]\teval-rmse:15.03368\n",
      "[125]\teval-rmse:15.02495\n",
      "[150]\teval-rmse:15.02404\n",
      "[175]\teval-rmse:15.02376\n"
     ]
    }
   ],
   "source": [
    "from sklearn.model_selection import TimeSeriesSplit\n",
    "from sklearn.metrics import mean_squared_error\n",
    "import xgboost as xgb\n",
    "import numpy as np\n",
    "\n",
    "# Prepare the features and target\n",
    "X = train.drop(columns=keys + non_modeling_vars)\n",
    "y = train[RESPONSE_VAR]\n",
    "\n",
    "# XGBoost parameters\n",
    "params = {\n",
    "    'objective': 'reg:squarederror',\n",
    "    'eval_metric': 'rmse',\n",
    "    'max_depth': 5,\n",
    "    'learning_rate': 0.1\n",
    "}\n",
    "\n",
    "# TimeSeriesSplit for sequential cross-validation\n",
    "tscv = TimeSeriesSplit(n_splits=3)\n",
    "\n",
    "# Store results\n",
    "results = []\n",
    "feature_importances_list = []\n",
    "best_rounds = []\n",
    "\n",
    "for fold, (train_index, test_index) in enumerate(tscv.split(X)):\n",
    "    print(f\"\\n=== Fold {fold + 1} ===\")\n",
    "\n",
    "    X_train, X_test = X.iloc[train_index], X.iloc[test_index]\n",
    "    y_train, y_test = y.iloc[train_index], y.iloc[test_index]\n",
    "\n",
    "    dtrain = xgb.DMatrix(X_train, label=y_train)\n",
    "    dvalid = xgb.DMatrix(X_test, label=y_test)\n",
    "\n",
    "    # Train model with early stopping using validation fold\n",
    "    model = xgb.train(\n",
    "        params=params,\n",
    "        dtrain=dtrain,\n",
    "        num_boost_round=250,\n",
    "        evals=[(dvalid, \"eval\")],\n",
    "        early_stopping_rounds=10,\n",
    "        verbose_eval=25\n",
    "    )\n",
    "\n",
    "    best_rounds.append(model.best_iteration)\n",
    "\n",
    "    # Predict on test set\n",
    "    y_pred = model.predict(dvalid)\n",
    "    rmse = mean_squared_error(y_test, y_pred, squared=False)\n",
    "    print(f\"Fold RMSE: {rmse:.4f}\")\n",
    "    results.append(rmse)\n",
    "\n",
    "    # Get and sort feature importances\n",
    "    feature_importances = model.get_score(importance_type='weight')\n",
    "    sorted_importances = sorted(feature_importances.items(), key=lambda x: x[1], reverse=True)\n",
    "    feature_importances_list.append(dict(sorted_importances))\n",
    "\n",
    "# Final results\n",
    "average_rmse = np.mean(results)\n",
    "print(f\"\\nAverage RMSE across all folds: {average_rmse:.4f}\")\n",
    "\n"
   ]
  },
  {
   "cell_type": "code",
   "execution_count": null,
   "id": "37c7cd11",
   "metadata": {},
   "outputs": [],
   "source": [
    "# Select final features by taking top 100 features from each model where there is overlap\n",
    "first_intersection = np.intersect1d(\n",
    "    list(feature_importances_list[0].keys())[:100],\n",
    "    list(feature_importances_list[1].keys())[:100]\n",
    "    )\n",
    "second_intersection = np.intersect1d(\n",
    "    first_intersection,\n",
    "    list(feature_importances_list[2].keys())[:100]\n",
    "    )"
   ]
  },
  {
   "cell_type": "code",
   "execution_count": null,
   "id": "0b283f31",
   "metadata": {},
   "outputs": [
    {
     "data": {
      "text/plain": [
       "array(['close', 'drawdown', 'finbert_0', 'finbert_1', 'finbert_17',\n",
       "       'finbert_2', 'finbert_20', 'finbert_23', 'finbert_363',\n",
       "       'finbert_367', 'finbert_447', 'finbert_529', 'finbert_594',\n",
       "       'finbert_6', 'finbert_8', 'high', 'low', 'open', 'volatility_5',\n",
       "       'volume'], dtype='<U26')"
      ]
     },
     "execution_count": 411,
     "metadata": {},
     "output_type": "execute_result"
    }
   ],
   "source": [
    "second_intersection"
   ]
  },
  {
   "cell_type": "markdown",
   "id": "226238ba",
   "metadata": {},
   "source": [
    "## Build model on full training set with only overlapping features\n",
    "- Evaluate on test set"
   ]
  },
  {
   "cell_type": "code",
   "execution_count": null,
   "id": "f947ae2f",
   "metadata": {},
   "outputs": [
    {
     "data": {
      "text/plain": [
       "116"
      ]
     },
     "execution_count": 412,
     "metadata": {},
     "output_type": "execute_result"
    }
   ],
   "source": [
    "num_rounds = int(sum(best_rounds) / len(best_rounds))\n",
    "num_rounds"
   ]
  },
  {
   "cell_type": "code",
   "execution_count": null,
   "id": "732df1f8",
   "metadata": {},
   "outputs": [
    {
     "name": "stdout",
     "output_type": "stream",
     "text": [
      "[15:08:20] WARNING: C:\\Users\\dev-admin\\croot2\\xgboost-split_1675461376218\\work\\src\\learner.cc:767: \n",
      "Parameters: { \"n_estimators\" } are not used.\n",
      "\n"
     ]
    }
   ],
   "source": [
    "# Prepare the features and target\n",
    "X = df[second_intersection]\n",
    "y = df[RESPONSE_VAR]\n",
    "\n",
    "X_train = train[second_intersection]\n",
    "y_train = train[RESPONSE_VAR]\n",
    "\n",
    "# Parameters for XGBoost\n",
    "params = {\n",
    "    'objective': 'reg:squarederror',  # Regression task\n",
    "    'eval_metric': 'rmse',  # We use RMSE for evaluation\n",
    "    'max_depth': 5,\n",
    "    'learning_rate': 0.1,\n",
    "    'n_estimators': 250,  # Sufficient large number for early stopping\n",
    "}\n",
    "\n",
    "# Convert to DMatrix for XGBoost\n",
    "dtrain = xgb.DMatrix(X_train, label=y_train)\n",
    "dfull = xgb.DMatrix(X, label=y)\n",
    "\n",
    "# Train the final model with the best number of rounds\n",
    "model = xgb.train(\n",
    "    params=params,\n",
    "    dtrain=dtrain,\n",
    "    num_boost_round=num_rounds\n",
    ")"
   ]
  },
  {
   "cell_type": "code",
   "execution_count": null,
   "id": "09af2e6a",
   "metadata": {},
   "outputs": [],
   "source": [
    "# Predict on the test set\n",
    "y_pred = model.predict(dfull)\n",
    "\n",
    "# Extract feature importances for this iteration\n",
    "feature_importances = model.get_score(importance_type='gain')\n",
    "\n",
    "# Sort the feature importances in descending order\n",
    "sorted_importance = sorted(feature_importances.items(), key=lambda x: x[1], reverse=True)"
   ]
  },
  {
   "cell_type": "code",
   "execution_count": null,
   "id": "633aa931",
   "metadata": {},
   "outputs": [
    {
     "data": {
      "text/plain": [
       "[('low', 936.04296875),\n",
       " ('close', 754.016357421875),\n",
       " ('high', 417.9910888671875),\n",
       " ('open', 271.18048095703125),\n",
       " ('finbert_1', 9.386116027832031),\n",
       " ('volatility_5', 6.705240726470947),\n",
       " ('volume', 4.458783149719238),\n",
       " ('finbert_529', 3.2930023670196533),\n",
       " ('finbert_594', 3.127873420715332),\n",
       " ('finbert_23', 2.8041038513183594),\n",
       " ('finbert_447', 2.7356114387512207),\n",
       " ('finbert_367', 2.654386520385742),\n",
       " ('finbert_2', 2.31564998626709),\n",
       " ('finbert_20', 1.976149559020996),\n",
       " ('finbert_6', 1.737810730934143),\n",
       " ('finbert_0', 1.6902390718460083),\n",
       " ('finbert_363', 1.5942860841751099),\n",
       " ('finbert_17', 1.3612910509109497),\n",
       " ('finbert_8', 1.3272401094436646),\n",
       " ('drawdown', 1.2060492038726807)]"
      ]
     },
     "execution_count": 415,
     "metadata": {},
     "output_type": "execute_result"
    }
   ],
   "source": [
    "sorted_importance"
   ]
  },
  {
   "cell_type": "markdown",
   "id": "7a016197",
   "metadata": {},
   "source": [
    "### Plot predictions on train going into test set\n",
    "- What % of the time is the prediction directionally correct?\n",
    "- How accurate is the prediction?"
   ]
  },
  {
   "cell_type": "code",
   "execution_count": null,
   "id": "3d2f26c6",
   "metadata": {},
   "outputs": [],
   "source": [
    "TEST_START_INDEX = 200"
   ]
  },
  {
   "cell_type": "code",
   "execution_count": null,
   "id": "cf77abbc",
   "metadata": {},
   "outputs": [
    {
     "data": {
      "text/plain": [
       "<matplotlib.lines.Line2D at 0x176bfb0a0a0>"
      ]
     },
     "execution_count": 417,
     "metadata": {},
     "output_type": "execute_result"
    },
    {
     "data": {
      "image/png": "[encoded data removed]",
      "text/plain": [
       "<Figure size 640x480 with 1 Axes>"
      ]
     },
     "metadata": {},
     "output_type": "display_data"
    }
   ],
   "source": [
    "plt.plot(df[\"date\"], y_pred, color=\"orange\")\n",
    "plt.plot(df[\"date\"], df[RESPONSE_VAR], color = \"blue\")\n",
    "plt.legend(labels=[\"Prediction\", \"Actual\"])\n",
    "plt.axvline(TEST_START_INDEX, color=\"red\", linestyle=\"--\")"
   ]
  },
  {
   "cell_type": "code",
   "execution_count": null,
   "id": "50663e20",
   "metadata": {},
   "outputs": [],
   "source": []
  },
  {
   "cell_type": "code",
   "execution_count": null,
   "id": "33759f6d",
   "metadata": {},
   "outputs": [
    {
     "data": {
      "text/plain": [
       "<matplotlib.legend.Legend at 0x176bd0455b0>"
      ]
     },
     "execution_count": 418,
     "metadata": {},
     "output_type": "execute_result"
    },
    {
     "data": {
      "image/png": "[encoded data removed]",
      "text/plain": [
       "<Figure size 640x480 with 1 Axes>"
      ]
     },
     "metadata": {},
     "output_type": "display_data"
    }
   ],
   "source": [
    "plt.plot(df.loc[TEST_START_INDEX:, \"date\"], y_pred[TEST_START_INDEX:], color=\"orange\")\n",
    "plt.plot(df.loc[TEST_START_INDEX:, \"date\"], df.loc[TEST_START_INDEX:, RESPONSE_VAR], color = \"blue\")\n",
    "plt.legend(labels=[\"Prediction\", \"Actual\"])"
   ]
  },
  {
   "cell_type": "markdown",
   "id": "2db24b2e",
   "metadata": {},
   "source": [
    "## Testing strategy vs. Buy and Hold"
   ]
  },
  {
   "cell_type": "code",
   "execution_count": null,
   "id": "1d9501ef",
   "metadata": {},
   "outputs": [
    {
     "data": {
      "image/png": "[encoded data removed]",
      "text/plain": [
       "<Figure size 1000x500 with 1 Axes>"
      ]
     },
     "metadata": {},
     "output_type": "display_data"
    }
   ],
   "source": [
    "import pandas as pd\n",
    "import numpy as np\n",
    "import matplotlib.pyplot as plt\n",
    "\n",
    "# Assume y_pred is an array of predicted close prices\n",
    "# Assume df contains 'date' and actual close price in RESPONSE_VAR\n",
    "# Assume TEST_START_INDEX is the starting index of your OOT predictions\n",
    "\n",
    "# 1. Extract test window\n",
    "test_df = df.iloc[TEST_START_INDEX:].copy()\n",
    "test_df[\"prediction\"] = y_pred[TEST_START_INDEX:]\n",
    "\n",
    "# 2. Calculate next-day return from actual closes\n",
    "test_df[\"actual_close_t\"] = test_df[RESPONSE_VAR]\n",
    "test_df[\"actual_close_t+1\"] = test_df[\"actual_close_t\"].shift(-1)\n",
    "test_df[\"actual_return\"] = (test_df[\"actual_close_t+1\"] - test_df[\"actual_close_t\"]) / test_df[\"actual_close_t\"]\n",
    "\n",
    "# 3. Calculate model's expected return\n",
    "test_df[\"predicted_return\"] = (test_df[\"prediction\"].shift(-1) - test_df[\"actual_close_t\"]) / test_df[\"actual_close_t\"]\n",
    "\n",
    "# 4. Define buy signal: model predicts next-day return > 0\n",
    "test_df[\"signal\"] = (test_df[\"predicted_return\"] > 0).astype(int)\n",
    "\n",
    "# 5. Calculate strategy return: earn return only when signal == 1\n",
    "test_df[\"strategy_return\"] = test_df[\"actual_return\"] * test_df[\"signal\"]\n",
    "\n",
    "# 6. Calculate cumulative returns\n",
    "test_df[\"cumulative_market\"] = (1 + test_df[\"actual_return\"].fillna(0)).cumprod()\n",
    "test_df[\"cumulative_strategy\"] = (1 + test_df[\"strategy_return\"].fillna(0)).cumprod()\n",
    "\n",
    "# 7. Plot results\n",
    "plt.figure(figsize=(10, 5))\n",
    "plt.plot(test_df[\"date\"], test_df[\"cumulative_market\"], label=\"Market (Buy & Hold)\", color='blue')\n",
    "plt.plot(test_df[\"date\"], test_df[\"cumulative_strategy\"], label=\"Model Strategy\", color='orange')\n",
    "plt.legend()\n",
    "plt.xlabel(\"Date\")\n",
    "plt.ylabel(\"Cumulative Return\")\n",
    "plt.title(\"Daily Buy/Hold Strategy Based on Model Prediction\")\n",
    "plt.grid(True)\n",
    "plt.tight_layout()\n",
    "plt.show()\n"
   ]
  },
  {
   "cell_type": "code",
   "execution_count": null,
   "id": "6367ff34",
   "metadata": {},
   "outputs": [],
   "source": []
  }
 ],
 "metadata": {
  "kernelspec": {
   "display_name": "tier",
   "language": "python",
   "name": "python3"
  },
  "language_info": {
   "codemirror_mode": {
    "name": "ipython",
    "version": 3
   },
   "file_extension": ".py",
   "mimetype": "text/x-python",
   "name": "python",
   "nbconvert_exporter": "python",
   "pygments_lexer": "ipython3",
   "version": "3.8.19"
  }
 },
 "nbformat": 4,
 "nbformat_minor": 5
}
