{
 "cells": [
  {
   "cell_type": "markdown",
   "id": "ec90ed6b",
   "metadata": {},
   "source": [
    "# GBM\n",
    "- Data Split \n",
    "    - Apply 80/20 split by Ticker\n",
    "    - For calculating performance, use 5 fold cross validation (RMSE, Accuracy (1 if positive, 0 if not))\n",
    "- Build GBM by Ticker"
   ]
  },
  {
   "cell_type": "code",
   "execution_count": 456,
   "id": "51e3b177",
   "metadata": {},
   "outputs": [],
   "source": [
    "import xgboost\n",
    "import pandas as pd\n",
    "import numpy as np\n",
    "import seaborn as sns\n",
    "import matplotlib.pyplot as plt"
   ]
  },
  {
   "cell_type": "code",
   "execution_count": 457,
   "id": "93359319",
   "metadata": {},
   "outputs": [],
   "source": [
    "TICKER = \"AAPL\"\n",
    "TEST_FRAC = 0.20\n",
    "RESPONSE_VAR = \"close_t+5\""
   ]
  },
  {
   "cell_type": "code",
   "execution_count": 458,
   "id": "c06694af",
   "metadata": {},
   "outputs": [],
   "source": [
    "df = pd.read_parquet(\"../data/processed/daily_with_finbert_and_indicators.parquet\")"
   ]
  },
  {
   "cell_type": "code",
   "execution_count": 459,
   "id": "1b140283",
   "metadata": {},
   "outputs": [
    {
     "data": {
      "text/plain": [
       "array(['AAPL', 'AMZN', 'HD', 'JPM', 'KO', 'MSFT', 'NVDA', 'TSLA', 'UNH',\n",
       "       'XOM'], dtype=object)"
      ]
     },
     "execution_count": 459,
     "metadata": {},
     "output_type": "execute_result"
    }
   ],
   "source": [
    "df[\"ticker\"].unique()"
   ]
  },
  {
   "cell_type": "code",
   "execution_count": 460,
   "id": "afdc3779",
   "metadata": {},
   "outputs": [],
   "source": [
    "df = df.query(f\"ticker == '{TICKER}'\").reset_index(drop=True)"
   ]
  },
  {
   "cell_type": "code",
   "execution_count": 461,
   "id": "d717c8bd",
   "metadata": {},
   "outputs": [
    {
     "data": {
      "text/plain": [
       "(249, 805)"
      ]
     },
     "execution_count": 461,
     "metadata": {},
     "output_type": "execute_result"
    }
   ],
   "source": [
    "df.shape"
   ]
  },
  {
   "cell_type": "code",
   "execution_count": 462,
   "id": "a3c8c032",
   "metadata": {},
   "outputs": [
    {
     "data": {
      "text/html": [
       "<div>\n",
       "<style scoped>\n",
       "    .dataframe tbody tr th:only-of-type {\n",
       "        vertical-align: middle;\n",
       "    }\n",
       "\n",
       "    .dataframe tbody tr th {\n",
       "        vertical-align: top;\n",
       "    }\n",
       "\n",
       "    .dataframe thead th {\n",
       "        text-align: right;\n",
       "    }\n",
       "</style>\n",
       "<table border=\"1\" class=\"dataframe\">\n",
       "  <thead>\n",
       "    <tr style=\"text-align: right;\">\n",
       "      <th></th>\n",
       "      <th>ticker</th>\n",
       "      <th>date</th>\n",
       "      <th>open</th>\n",
       "      <th>high</th>\n",
       "      <th>low</th>\n",
       "      <th>close</th>\n",
       "      <th>volume</th>\n",
       "      <th>return_t+1</th>\n",
       "      <th>headlines</th>\n",
       "      <th>finbert_0</th>\n",
       "      <th>...</th>\n",
       "      <th>open_smoothed_alpha:0.9</th>\n",
       "      <th>close_smoothed_alpha:0.25</th>\n",
       "      <th>close_smoothed_alpha:0.75</th>\n",
       "      <th>close_smoothed_alpha:0.9</th>\n",
       "      <th>return_t+1_smoothed_alpha:0.25</th>\n",
       "      <th>return_smoothed_alpha:0.25</th>\n",
       "      <th>return_t+1_smoothed_alpha:0.75</th>\n",
       "      <th>return_smoothed_alpha:0.75</th>\n",
       "      <th>return_t+1_smoothed_alpha:0.9</th>\n",
       "      <th>return_smoothed_alpha:0.9</th>\n",
       "    </tr>\n",
       "  </thead>\n",
       "  <tbody>\n",
       "    <tr>\n",
       "      <th>0</th>\n",
       "      <td>AAPL</td>\n",
       "      <td>2024-05-01</td>\n",
       "      <td>169.580002</td>\n",
       "      <td>172.710007</td>\n",
       "      <td>169.110001</td>\n",
       "      <td>169.300003</td>\n",
       "      <td>50383100.0</td>\n",
       "      <td>0.022032</td>\n",
       "      <td>[]</td>\n",
       "      <td>0.000000</td>\n",
       "      <td>...</td>\n",
       "      <td>169.580002</td>\n",
       "      <td>169.300003</td>\n",
       "      <td>169.300003</td>\n",
       "      <td>169.300003</td>\n",
       "      <td>0.022032</td>\n",
       "      <td>NaN</td>\n",
       "      <td>0.022032</td>\n",
       "      <td>NaN</td>\n",
       "      <td>0.022032</td>\n",
       "      <td>NaN</td>\n",
       "    </tr>\n",
       "    <tr>\n",
       "      <th>1</th>\n",
       "      <td>AAPL</td>\n",
       "      <td>2024-05-02</td>\n",
       "      <td>172.509995</td>\n",
       "      <td>173.419998</td>\n",
       "      <td>170.889999</td>\n",
       "      <td>173.029999</td>\n",
       "      <td>94214900.0</td>\n",
       "      <td>0.059816</td>\n",
       "      <td>[]</td>\n",
       "      <td>0.000000</td>\n",
       "      <td>...</td>\n",
       "      <td>172.216995</td>\n",
       "      <td>170.232502</td>\n",
       "      <td>172.097500</td>\n",
       "      <td>172.656999</td>\n",
       "      <td>0.031478</td>\n",
       "      <td>0.022032</td>\n",
       "      <td>0.050370</td>\n",
       "      <td>0.022032</td>\n",
       "      <td>0.056038</td>\n",
       "      <td>0.022032</td>\n",
       "    </tr>\n",
       "    <tr>\n",
       "      <th>2</th>\n",
       "      <td>AAPL</td>\n",
       "      <td>2024-05-03</td>\n",
       "      <td>186.649994</td>\n",
       "      <td>187.000000</td>\n",
       "      <td>182.660004</td>\n",
       "      <td>183.380005</td>\n",
       "      <td>163224100.0</td>\n",
       "      <td>-0.009107</td>\n",
       "      <td>[]</td>\n",
       "      <td>0.000000</td>\n",
       "      <td>...</td>\n",
       "      <td>185.206694</td>\n",
       "      <td>173.519378</td>\n",
       "      <td>180.559379</td>\n",
       "      <td>182.307704</td>\n",
       "      <td>0.021332</td>\n",
       "      <td>0.031478</td>\n",
       "      <td>0.005762</td>\n",
       "      <td>0.050370</td>\n",
       "      <td>-0.002592</td>\n",
       "      <td>0.056038</td>\n",
       "    </tr>\n",
       "    <tr>\n",
       "      <th>3</th>\n",
       "      <td>AAPL</td>\n",
       "      <td>2024-05-06</td>\n",
       "      <td>182.350006</td>\n",
       "      <td>184.199997</td>\n",
       "      <td>180.419998</td>\n",
       "      <td>181.710007</td>\n",
       "      <td>78569700.0</td>\n",
       "      <td>0.003797</td>\n",
       "      <td>[]</td>\n",
       "      <td>0.000000</td>\n",
       "      <td>...</td>\n",
       "      <td>182.635675</td>\n",
       "      <td>175.567035</td>\n",
       "      <td>181.422350</td>\n",
       "      <td>181.769776</td>\n",
       "      <td>0.016948</td>\n",
       "      <td>0.021332</td>\n",
       "      <td>0.004289</td>\n",
       "      <td>0.005762</td>\n",
       "      <td>0.003158</td>\n",
       "      <td>-0.002592</td>\n",
       "    </tr>\n",
       "    <tr>\n",
       "      <th>4</th>\n",
       "      <td>AAPL</td>\n",
       "      <td>2024-05-07</td>\n",
       "      <td>183.449997</td>\n",
       "      <td>184.899994</td>\n",
       "      <td>181.320007</td>\n",
       "      <td>182.399994</td>\n",
       "      <td>77305800.0</td>\n",
       "      <td>0.001864</td>\n",
       "      <td>[From Apple to Wayfair: A Lot of Earnings Resu...</td>\n",
       "      <td>0.030524</td>\n",
       "      <td>...</td>\n",
       "      <td>183.368565</td>\n",
       "      <td>177.275275</td>\n",
       "      <td>182.155583</td>\n",
       "      <td>182.336972</td>\n",
       "      <td>0.013177</td>\n",
       "      <td>0.016948</td>\n",
       "      <td>0.002470</td>\n",
       "      <td>0.004289</td>\n",
       "      <td>0.001994</td>\n",
       "      <td>0.003158</td>\n",
       "    </tr>\n",
       "  </tbody>\n",
       "</table>\n",
       "<p>5 rows × 805 columns</p>\n",
       "</div>"
      ],
      "text/plain": [
       "  ticker        date        open        high         low       close  \\\n",
       "0   AAPL  2024-05-01  169.580002  172.710007  169.110001  169.300003   \n",
       "1   AAPL  2024-05-02  172.509995  173.419998  170.889999  173.029999   \n",
       "2   AAPL  2024-05-03  186.649994  187.000000  182.660004  183.380005   \n",
       "3   AAPL  2024-05-06  182.350006  184.199997  180.419998  181.710007   \n",
       "4   AAPL  2024-05-07  183.449997  184.899994  181.320007  182.399994   \n",
       "\n",
       "        volume  return_t+1                                          headlines  \\\n",
       "0   50383100.0    0.022032                                                 []   \n",
       "1   94214900.0    0.059816                                                 []   \n",
       "2  163224100.0   -0.009107                                                 []   \n",
       "3   78569700.0    0.003797                                                 []   \n",
       "4   77305800.0    0.001864  [From Apple to Wayfair: A Lot of Earnings Resu...   \n",
       "\n",
       "   finbert_0  ...  open_smoothed_alpha:0.9  close_smoothed_alpha:0.25  \\\n",
       "0   0.000000  ...               169.580002                 169.300003   \n",
       "1   0.000000  ...               172.216995                 170.232502   \n",
       "2   0.000000  ...               185.206694                 173.519378   \n",
       "3   0.000000  ...               182.635675                 175.567035   \n",
       "4   0.030524  ...               183.368565                 177.275275   \n",
       "\n",
       "   close_smoothed_alpha:0.75  close_smoothed_alpha:0.9  \\\n",
       "0                 169.300003                169.300003   \n",
       "1                 172.097500                172.656999   \n",
       "2                 180.559379                182.307704   \n",
       "3                 181.422350                181.769776   \n",
       "4                 182.155583                182.336972   \n",
       "\n",
       "   return_t+1_smoothed_alpha:0.25  return_smoothed_alpha:0.25  \\\n",
       "0                        0.022032                         NaN   \n",
       "1                        0.031478                    0.022032   \n",
       "2                        0.021332                    0.031478   \n",
       "3                        0.016948                    0.021332   \n",
       "4                        0.013177                    0.016948   \n",
       "\n",
       "   return_t+1_smoothed_alpha:0.75  return_smoothed_alpha:0.75  \\\n",
       "0                        0.022032                         NaN   \n",
       "1                        0.050370                    0.022032   \n",
       "2                        0.005762                    0.050370   \n",
       "3                        0.004289                    0.005762   \n",
       "4                        0.002470                    0.004289   \n",
       "\n",
       "   return_t+1_smoothed_alpha:0.9  return_smoothed_alpha:0.9  \n",
       "0                       0.022032                        NaN  \n",
       "1                       0.056038                   0.022032  \n",
       "2                      -0.002592                   0.056038  \n",
       "3                       0.003158                  -0.002592  \n",
       "4                       0.001994                   0.003158  \n",
       "\n",
       "[5 rows x 805 columns]"
      ]
     },
     "execution_count": 462,
     "metadata": {},
     "output_type": "execute_result"
    }
   ],
   "source": [
    "df.head()"
   ]
  },
  {
   "cell_type": "code",
   "execution_count": 463,
   "id": "e9446742",
   "metadata": {},
   "outputs": [
    {
     "data": {
      "text/html": [
       "<div>\n",
       "<style scoped>\n",
       "    .dataframe tbody tr th:only-of-type {\n",
       "        vertical-align: middle;\n",
       "    }\n",
       "\n",
       "    .dataframe tbody tr th {\n",
       "        vertical-align: top;\n",
       "    }\n",
       "\n",
       "    .dataframe thead th {\n",
       "        text-align: right;\n",
       "    }\n",
       "</style>\n",
       "<table border=\"1\" class=\"dataframe\">\n",
       "  <thead>\n",
       "    <tr style=\"text-align: right;\">\n",
       "      <th></th>\n",
       "      <th>ticker</th>\n",
       "      <th>date</th>\n",
       "      <th>open</th>\n",
       "      <th>high</th>\n",
       "      <th>low</th>\n",
       "      <th>close</th>\n",
       "      <th>volume</th>\n",
       "      <th>return_t+1</th>\n",
       "      <th>headlines</th>\n",
       "      <th>finbert_0</th>\n",
       "      <th>...</th>\n",
       "      <th>open_smoothed_alpha:0.9</th>\n",
       "      <th>close_smoothed_alpha:0.25</th>\n",
       "      <th>close_smoothed_alpha:0.75</th>\n",
       "      <th>close_smoothed_alpha:0.9</th>\n",
       "      <th>return_t+1_smoothed_alpha:0.25</th>\n",
       "      <th>return_smoothed_alpha:0.25</th>\n",
       "      <th>return_t+1_smoothed_alpha:0.75</th>\n",
       "      <th>return_smoothed_alpha:0.75</th>\n",
       "      <th>return_t+1_smoothed_alpha:0.9</th>\n",
       "      <th>return_smoothed_alpha:0.9</th>\n",
       "    </tr>\n",
       "  </thead>\n",
       "  <tbody>\n",
       "    <tr>\n",
       "      <th>244</th>\n",
       "      <td>AAPL</td>\n",
       "      <td>2025-04-23</td>\n",
       "      <td>206.000000</td>\n",
       "      <td>208.000000</td>\n",
       "      <td>202.800003</td>\n",
       "      <td>204.600006</td>\n",
       "      <td>52929200.0</td>\n",
       "      <td>0.018426</td>\n",
       "      <td>[Wall Street Bets on Big Tech Buybacks as Free...</td>\n",
       "      <td>-0.034162</td>\n",
       "      <td>...</td>\n",
       "      <td>204.987588</td>\n",
       "      <td>199.016937</td>\n",
       "      <td>203.030261</td>\n",
       "      <td>204.051834</td>\n",
       "      <td>0.012118</td>\n",
       "      <td>0.010015</td>\n",
       "      <td>0.019765</td>\n",
       "      <td>0.023781</td>\n",
       "      <td>0.019063</td>\n",
       "      <td>0.024799</td>\n",
       "    </tr>\n",
       "    <tr>\n",
       "      <th>245</th>\n",
       "      <td>AAPL</td>\n",
       "      <td>2025-04-24</td>\n",
       "      <td>204.889999</td>\n",
       "      <td>208.830002</td>\n",
       "      <td>202.940002</td>\n",
       "      <td>208.369995</td>\n",
       "      <td>47311000.0</td>\n",
       "      <td>0.004367</td>\n",
       "      <td>[Apple to Strip Secret Robotics Unit From AI C...</td>\n",
       "      <td>0.015404</td>\n",
       "      <td>...</td>\n",
       "      <td>204.899758</td>\n",
       "      <td>201.355202</td>\n",
       "      <td>207.035062</td>\n",
       "      <td>207.938179</td>\n",
       "      <td>0.010180</td>\n",
       "      <td>0.012118</td>\n",
       "      <td>0.008217</td>\n",
       "      <td>0.019765</td>\n",
       "      <td>0.005837</td>\n",
       "      <td>0.019063</td>\n",
       "    </tr>\n",
       "    <tr>\n",
       "      <th>246</th>\n",
       "      <td>AAPL</td>\n",
       "      <td>2025-04-25</td>\n",
       "      <td>206.369995</td>\n",
       "      <td>209.750000</td>\n",
       "      <td>206.199997</td>\n",
       "      <td>209.279999</td>\n",
       "      <td>38222300.0</td>\n",
       "      <td>0.004109</td>\n",
       "      <td>[Tariff uncertainty creeps into tech earnings,...</td>\n",
       "      <td>0.112134</td>\n",
       "      <td>...</td>\n",
       "      <td>206.222971</td>\n",
       "      <td>203.336401</td>\n",
       "      <td>208.718764</td>\n",
       "      <td>209.145817</td>\n",
       "      <td>0.008662</td>\n",
       "      <td>0.010180</td>\n",
       "      <td>0.005136</td>\n",
       "      <td>0.008217</td>\n",
       "      <td>0.004282</td>\n",
       "      <td>0.005837</td>\n",
       "    </tr>\n",
       "    <tr>\n",
       "      <th>247</th>\n",
       "      <td>AAPL</td>\n",
       "      <td>2025-04-28</td>\n",
       "      <td>210.000000</td>\n",
       "      <td>211.500000</td>\n",
       "      <td>207.460007</td>\n",
       "      <td>210.139999</td>\n",
       "      <td>38743100.0</td>\n",
       "      <td>0.005092</td>\n",
       "      <td>[My 10 Must-Own Dividend Stocks For Your Retir...</td>\n",
       "      <td>-0.046616</td>\n",
       "      <td>...</td>\n",
       "      <td>209.622297</td>\n",
       "      <td>205.037301</td>\n",
       "      <td>209.784691</td>\n",
       "      <td>210.040581</td>\n",
       "      <td>0.007770</td>\n",
       "      <td>0.008662</td>\n",
       "      <td>0.005103</td>\n",
       "      <td>0.005136</td>\n",
       "      <td>0.005011</td>\n",
       "      <td>0.004282</td>\n",
       "    </tr>\n",
       "    <tr>\n",
       "      <th>248</th>\n",
       "      <td>AAPL</td>\n",
       "      <td>2025-04-29</td>\n",
       "      <td>208.690002</td>\n",
       "      <td>212.240005</td>\n",
       "      <td>208.369995</td>\n",
       "      <td>211.210007</td>\n",
       "      <td>36827600.0</td>\n",
       "      <td>0.006108</td>\n",
       "      <td>[Stocks Rise as Fed-Cut Wagers Sink Treasury Y...</td>\n",
       "      <td>0.026925</td>\n",
       "      <td>...</td>\n",
       "      <td>208.783232</td>\n",
       "      <td>206.580477</td>\n",
       "      <td>210.853678</td>\n",
       "      <td>211.093064</td>\n",
       "      <td>0.007354</td>\n",
       "      <td>0.007770</td>\n",
       "      <td>0.005856</td>\n",
       "      <td>0.005103</td>\n",
       "      <td>0.005998</td>\n",
       "      <td>0.005011</td>\n",
       "    </tr>\n",
       "  </tbody>\n",
       "</table>\n",
       "<p>5 rows × 805 columns</p>\n",
       "</div>"
      ],
      "text/plain": [
       "    ticker        date        open        high         low       close  \\\n",
       "244   AAPL  2025-04-23  206.000000  208.000000  202.800003  204.600006   \n",
       "245   AAPL  2025-04-24  204.889999  208.830002  202.940002  208.369995   \n",
       "246   AAPL  2025-04-25  206.369995  209.750000  206.199997  209.279999   \n",
       "247   AAPL  2025-04-28  210.000000  211.500000  207.460007  210.139999   \n",
       "248   AAPL  2025-04-29  208.690002  212.240005  208.369995  211.210007   \n",
       "\n",
       "         volume  return_t+1  \\\n",
       "244  52929200.0    0.018426   \n",
       "245  47311000.0    0.004367   \n",
       "246  38222300.0    0.004109   \n",
       "247  38743100.0    0.005092   \n",
       "248  36827600.0    0.006108   \n",
       "\n",
       "                                             headlines  finbert_0  ...  \\\n",
       "244  [Wall Street Bets on Big Tech Buybacks as Free...  -0.034162  ...   \n",
       "245  [Apple to Strip Secret Robotics Unit From AI C...   0.015404  ...   \n",
       "246  [Tariff uncertainty creeps into tech earnings,...   0.112134  ...   \n",
       "247  [My 10 Must-Own Dividend Stocks For Your Retir...  -0.046616  ...   \n",
       "248  [Stocks Rise as Fed-Cut Wagers Sink Treasury Y...   0.026925  ...   \n",
       "\n",
       "     open_smoothed_alpha:0.9  close_smoothed_alpha:0.25  \\\n",
       "244               204.987588                 199.016937   \n",
       "245               204.899758                 201.355202   \n",
       "246               206.222971                 203.336401   \n",
       "247               209.622297                 205.037301   \n",
       "248               208.783232                 206.580477   \n",
       "\n",
       "     close_smoothed_alpha:0.75  close_smoothed_alpha:0.9  \\\n",
       "244                 203.030261                204.051834   \n",
       "245                 207.035062                207.938179   \n",
       "246                 208.718764                209.145817   \n",
       "247                 209.784691                210.040581   \n",
       "248                 210.853678                211.093064   \n",
       "\n",
       "     return_t+1_smoothed_alpha:0.25  return_smoothed_alpha:0.25  \\\n",
       "244                        0.012118                    0.010015   \n",
       "245                        0.010180                    0.012118   \n",
       "246                        0.008662                    0.010180   \n",
       "247                        0.007770                    0.008662   \n",
       "248                        0.007354                    0.007770   \n",
       "\n",
       "     return_t+1_smoothed_alpha:0.75  return_smoothed_alpha:0.75  \\\n",
       "244                        0.019765                    0.023781   \n",
       "245                        0.008217                    0.019765   \n",
       "246                        0.005136                    0.008217   \n",
       "247                        0.005103                    0.005136   \n",
       "248                        0.005856                    0.005103   \n",
       "\n",
       "     return_t+1_smoothed_alpha:0.9  return_smoothed_alpha:0.9  \n",
       "244                       0.019063                   0.024799  \n",
       "245                       0.005837                   0.019063  \n",
       "246                       0.004282                   0.005837  \n",
       "247                       0.005011                   0.004282  \n",
       "248                       0.005998                   0.005011  \n",
       "\n",
       "[5 rows x 805 columns]"
      ]
     },
     "execution_count": 463,
     "metadata": {},
     "output_type": "execute_result"
    }
   ],
   "source": [
    "df.tail()"
   ]
  },
  {
   "cell_type": "code",
   "execution_count": null,
   "id": "285c48a4",
   "metadata": {},
   "outputs": [],
   "source": []
  },
  {
   "cell_type": "markdown",
   "id": "8338e707",
   "metadata": {},
   "source": [
    "## Add Close @ T+1 as a variable to test modeling"
   ]
  },
  {
   "cell_type": "code",
   "execution_count": 464,
   "id": "dae0a702",
   "metadata": {},
   "outputs": [],
   "source": [
    "for lag in range(1, 6):\n",
    "    df[f\"close_t+{lag}\"] = df[\"close\"].shift(-lag)"
   ]
  },
  {
   "cell_type": "code",
   "execution_count": 465,
   "id": "e402dddc",
   "metadata": {},
   "outputs": [
    {
     "data": {
      "text/html": [
       "<div>\n",
       "<style scoped>\n",
       "    .dataframe tbody tr th:only-of-type {\n",
       "        vertical-align: middle;\n",
       "    }\n",
       "\n",
       "    .dataframe tbody tr th {\n",
       "        vertical-align: top;\n",
       "    }\n",
       "\n",
       "    .dataframe thead th {\n",
       "        text-align: right;\n",
       "    }\n",
       "</style>\n",
       "<table border=\"1\" class=\"dataframe\">\n",
       "  <thead>\n",
       "    <tr style=\"text-align: right;\">\n",
       "      <th></th>\n",
       "      <th>close</th>\n",
       "      <th>close_t+1</th>\n",
       "      <th>close_t+3</th>\n",
       "      <th>close_t+5</th>\n",
       "    </tr>\n",
       "  </thead>\n",
       "  <tbody>\n",
       "    <tr>\n",
       "      <th>0</th>\n",
       "      <td>169.300003</td>\n",
       "      <td>173.029999</td>\n",
       "      <td>181.710007</td>\n",
       "      <td>182.740005</td>\n",
       "    </tr>\n",
       "    <tr>\n",
       "      <th>1</th>\n",
       "      <td>173.029999</td>\n",
       "      <td>183.380005</td>\n",
       "      <td>182.399994</td>\n",
       "      <td>184.570007</td>\n",
       "    </tr>\n",
       "    <tr>\n",
       "      <th>2</th>\n",
       "      <td>183.380005</td>\n",
       "      <td>181.710007</td>\n",
       "      <td>182.740005</td>\n",
       "      <td>183.050003</td>\n",
       "    </tr>\n",
       "    <tr>\n",
       "      <th>3</th>\n",
       "      <td>181.710007</td>\n",
       "      <td>182.399994</td>\n",
       "      <td>184.570007</td>\n",
       "      <td>186.279999</td>\n",
       "    </tr>\n",
       "    <tr>\n",
       "      <th>4</th>\n",
       "      <td>182.399994</td>\n",
       "      <td>182.740005</td>\n",
       "      <td>183.050003</td>\n",
       "      <td>187.429993</td>\n",
       "    </tr>\n",
       "    <tr>\n",
       "      <th>5</th>\n",
       "      <td>182.740005</td>\n",
       "      <td>184.570007</td>\n",
       "      <td>186.279999</td>\n",
       "      <td>189.720001</td>\n",
       "    </tr>\n",
       "    <tr>\n",
       "      <th>6</th>\n",
       "      <td>184.570007</td>\n",
       "      <td>183.050003</td>\n",
       "      <td>187.429993</td>\n",
       "      <td>189.839996</td>\n",
       "    </tr>\n",
       "    <tr>\n",
       "      <th>7</th>\n",
       "      <td>183.050003</td>\n",
       "      <td>186.279999</td>\n",
       "      <td>189.720001</td>\n",
       "      <td>189.869995</td>\n",
       "    </tr>\n",
       "    <tr>\n",
       "      <th>8</th>\n",
       "      <td>186.279999</td>\n",
       "      <td>187.429993</td>\n",
       "      <td>189.839996</td>\n",
       "      <td>191.039993</td>\n",
       "    </tr>\n",
       "    <tr>\n",
       "      <th>9</th>\n",
       "      <td>187.429993</td>\n",
       "      <td>189.720001</td>\n",
       "      <td>189.869995</td>\n",
       "      <td>192.350006</td>\n",
       "    </tr>\n",
       "  </tbody>\n",
       "</table>\n",
       "</div>"
      ],
      "text/plain": [
       "        close   close_t+1   close_t+3   close_t+5\n",
       "0  169.300003  173.029999  181.710007  182.740005\n",
       "1  173.029999  183.380005  182.399994  184.570007\n",
       "2  183.380005  181.710007  182.740005  183.050003\n",
       "3  181.710007  182.399994  184.570007  186.279999\n",
       "4  182.399994  182.740005  183.050003  187.429993\n",
       "5  182.740005  184.570007  186.279999  189.720001\n",
       "6  184.570007  183.050003  187.429993  189.839996\n",
       "7  183.050003  186.279999  189.720001  189.869995\n",
       "8  186.279999  187.429993  189.839996  191.039993\n",
       "9  187.429993  189.720001  189.869995  192.350006"
      ]
     },
     "execution_count": 465,
     "metadata": {},
     "output_type": "execute_result"
    }
   ],
   "source": [
    "df[[\"close\", \"close_t+1\", \"close_t+3\", \"close_t+5\"]].head(10)"
   ]
  },
  {
   "cell_type": "code",
   "execution_count": 466,
   "id": "e902dd61",
   "metadata": {},
   "outputs": [
    {
     "data": {
      "text/html": [
       "<div>\n",
       "<style scoped>\n",
       "    .dataframe tbody tr th:only-of-type {\n",
       "        vertical-align: middle;\n",
       "    }\n",
       "\n",
       "    .dataframe tbody tr th {\n",
       "        vertical-align: top;\n",
       "    }\n",
       "\n",
       "    .dataframe thead th {\n",
       "        text-align: right;\n",
       "    }\n",
       "</style>\n",
       "<table border=\"1\" class=\"dataframe\">\n",
       "  <thead>\n",
       "    <tr style=\"text-align: right;\">\n",
       "      <th></th>\n",
       "      <th>close</th>\n",
       "      <th>close_t+1</th>\n",
       "    </tr>\n",
       "  </thead>\n",
       "  <tbody>\n",
       "    <tr>\n",
       "      <th>244</th>\n",
       "      <td>204.600006</td>\n",
       "      <td>208.369995</td>\n",
       "    </tr>\n",
       "    <tr>\n",
       "      <th>245</th>\n",
       "      <td>208.369995</td>\n",
       "      <td>209.279999</td>\n",
       "    </tr>\n",
       "    <tr>\n",
       "      <th>246</th>\n",
       "      <td>209.279999</td>\n",
       "      <td>210.139999</td>\n",
       "    </tr>\n",
       "    <tr>\n",
       "      <th>247</th>\n",
       "      <td>210.139999</td>\n",
       "      <td>211.210007</td>\n",
       "    </tr>\n",
       "    <tr>\n",
       "      <th>248</th>\n",
       "      <td>211.210007</td>\n",
       "      <td>NaN</td>\n",
       "    </tr>\n",
       "  </tbody>\n",
       "</table>\n",
       "</div>"
      ],
      "text/plain": [
       "          close   close_t+1\n",
       "244  204.600006  208.369995\n",
       "245  208.369995  209.279999\n",
       "246  209.279999  210.139999\n",
       "247  210.139999  211.210007\n",
       "248  211.210007         NaN"
      ]
     },
     "execution_count": 466,
     "metadata": {},
     "output_type": "execute_result"
    }
   ],
   "source": [
    "df[[\"close\", \"close_t+1\"]].tail()"
   ]
  },
  {
   "cell_type": "code",
   "execution_count": 467,
   "id": "17348ee3",
   "metadata": {},
   "outputs": [],
   "source": [
    "df.dropna(subset=RESPONSE_VAR, inplace=True)"
   ]
  },
  {
   "cell_type": "markdown",
   "id": "98349bd0",
   "metadata": {},
   "source": [
    "### Apply data split\n",
    "- For initial test, build model on 80% and validate on 20% OOT\n",
    "    - Tune hyperparameters using CV on Train set\n",
    "\n",
    "- For future, always validate on most recent 2-months and add additional "
   ]
  },
  {
   "cell_type": "code",
   "execution_count": 468,
   "id": "7155bd10",
   "metadata": {},
   "outputs": [],
   "source": [
    "df = df.query(f\"ticker == '{TICKER}'\").reset_index(drop=True)"
   ]
  },
  {
   "cell_type": "code",
   "execution_count": 469,
   "id": "9c9f0c3c",
   "metadata": {},
   "outputs": [],
   "source": [
    "df = df.sort_values(\"date\")"
   ]
  },
  {
   "cell_type": "code",
   "execution_count": 470,
   "id": "5414bad5",
   "metadata": {},
   "outputs": [],
   "source": [
    "train = df.loc[df.index <= int(df.shape[0] * (1 - TEST_FRAC)), :]\n",
    "test = df.loc[df.index > int(df.shape[0] * (1 - TEST_FRAC)), :]"
   ]
  },
  {
   "cell_type": "code",
   "execution_count": 471,
   "id": "e5c183c3",
   "metadata": {},
   "outputs": [
    {
     "data": {
      "text/plain": [
       "((196, 810), (48, 810))"
      ]
     },
     "execution_count": 471,
     "metadata": {},
     "output_type": "execute_result"
    }
   ],
   "source": [
    "train.shape, test.shape"
   ]
  },
  {
   "cell_type": "markdown",
   "id": "59f73a2c",
   "metadata": {},
   "source": [
    "### Build initial model on `returns_t+1` \n",
    "- Use ARIMA as a baseline (and potentially use as a feature)\n",
    "- Test using `close_t+1` and `return_t+1_>0`"
   ]
  },
  {
   "cell_type": "code",
   "execution_count": 472,
   "id": "1bfda5fa",
   "metadata": {},
   "outputs": [
    {
     "name": "stdout",
     "output_type": "stream",
     "text": [
      "['headlines', 'return_t+1', 'return_t+1_smoothed_alpha:0.25', 'return_t+1_smoothed_alpha:0.75', 'return_t+1_smoothed_alpha:0.9', 'close_t+1']\n"
     ]
    }
   ],
   "source": [
    "keys = [\"ticker\", \"date\"]\n",
    "non_modeling_vars = [\"headlines\", *[col for col in df.columns if \"t+1\" in col]]\n",
    "print(non_modeling_vars)"
   ]
  },
  {
   "cell_type": "code",
   "execution_count": null,
   "id": "9a3a6b70",
   "metadata": {},
   "outputs": [
    {
     "name": "stdout",
     "output_type": "stream",
     "text": [
      "\n",
      "=== Fold 1 ===\n",
      "[0]\teval-rmse:201.42705\n",
      "[25]\teval-rmse:15.57992\n",
      "[50]\teval-rmse:3.12697\n",
      "[55]\teval-rmse:3.34408\n",
      "Fold RMSE: 3.3441\n",
      "\n",
      "=== Fold 2 ===\n",
      "[0]\teval-rmse:208.58096\n",
      "[25]\teval-rmse:21.16590\n",
      "[50]\teval-rmse:4.58586\n",
      "[75]\teval-rmse:2.90666\n",
      "[100]\teval-rmse:2.63120\n",
      "[125]\teval-rmse:2.55544\n",
      "[150]\teval-rmse:2.53479\n"
     ]
    }
   ],
   "source": [
    "from sklearn.model_selection import TimeSeriesSplit\n",
    "from sklearn.metrics import mean_squared_error\n",
    "import xgboost as xgb\n",
    "import numpy as np\n",
    "\n",
    "# Prepare the features and target\n",
    "X = train.drop(columns=keys + non_modeling_vars)\n",
    "y = train[RESPONSE_VAR]\n",
    "\n",
    "# XGBoost parameters\n",
    "params = {\n",
    "    'objective': 'reg:squarederror',\n",
    "    'eval_metric': 'rmse',\n",
    "    'max_depth': 5,\n",
    "    'learning_rate': 0.1\n",
    "}\n",
    "\n",
    "# TimeSeriesSplit for sequential cross-validation\n",
    "tscv = TimeSeriesSplit(n_splits=3)\n",
    "\n",
    "# Store results\n",
    "results = []\n",
    "feature_importances_list = []\n",
    "best_rounds = []\n",
    "\n",
    "for fold, (train_index, test_index) in enumerate(tscv.split(X)):\n",
    "    print(f\"\\n=== Fold {fold + 1} ===\")\n",
    "\n",
    "    X_train, X_test = X.iloc[train_index], X.iloc[test_index]\n",
    "    y_train, y_test = y.iloc[train_index], y.iloc[test_index]\n",
    "\n",
    "    dtrain = xgb.DMatrix(X_train, label=y_train)\n",
    "    dvalid = xgb.DMatrix(X_test, label=y_test)\n",
    "\n",
    "    # Train model with early stopping using validation fold\n",
    "    model = xgb.train(\n",
    "        params=params,\n",
    "        dtrain=dtrain,\n",
    "        num_boost_round=250,\n",
    "        evals=[(dvalid, \"eval\")],\n",
    "        early_stopping_rounds=10,\n",
    "        verbose_eval=25\n",
    "    )\n",
    "\n",
    "    best_rounds.append(model.best_iteration)\n",
    "\n",
    "    # Predict on test set\n",
    "    y_pred = model.predict(dvalid)\n",
    "    rmse = mean_squared_error(y_test, y_pred, squared=False)\n",
    "    print(f\"Fold RMSE: {rmse:.4f}\")\n",
    "    results.append(rmse)\n",
    "\n",
    "    # Get and sort feature importances\n",
    "    feature_importances = model.get_score(importance_type='weight')\n",
    "    sorted_importances = sorted(feature_importances.items(), key=lambda x: x[1], reverse=True)\n",
    "    feature_importances_list.append(dict(sorted_importances))\n",
    "\n",
    "# Final results\n",
    "average_rmse = np.mean(results)\n",
    "print(f\"\\nAverage RMSE across all folds: {average_rmse:.4f}\")\n",
    "\n"
   ]
  },
  {
   "cell_type": "code",
   "execution_count": null,
   "id": "37c7cd11",
   "metadata": {},
   "outputs": [],
   "source": [
    "# Select final features by taking top 100 features from each model where there is overlap\n",
    "first_intersection = np.intersect1d(\n",
    "    list(feature_importances_list[0].keys())[:100],\n",
    "    list(feature_importances_list[1].keys())[:100]\n",
    "    )\n",
    "second_intersection = np.intersect1d(\n",
    "    first_intersection,\n",
    "    list(feature_importances_list[2].keys())[:100]\n",
    "    )"
   ]
  },
  {
   "cell_type": "code",
   "execution_count": null,
   "id": "0b283f31",
   "metadata": {},
   "outputs": [
    {
     "data": {
      "text/plain": [
       "array(['close_t+4', 'close_t+5', 'drawdown', 'finbert_0', 'finbert_1',\n",
       "       'finbert_10', 'finbert_130', 'finbert_2', 'finbert_21',\n",
       "       'finbert_37', 'finbert_6', 'high', 'low', 'open', 'sma_10',\n",
       "       'volume'], dtype='<U26')"
      ]
     },
     "execution_count": 441,
     "metadata": {},
     "output_type": "execute_result"
    }
   ],
   "source": [
    "second_intersection"
   ]
  },
  {
   "cell_type": "markdown",
   "id": "226238ba",
   "metadata": {},
   "source": [
    "## Build model on full training set with only overlapping features\n",
    "- Evaluate on test set"
   ]
  },
  {
   "cell_type": "code",
   "execution_count": null,
   "id": "f947ae2f",
   "metadata": {},
   "outputs": [
    {
     "data": {
      "text/plain": [
       "182"
      ]
     },
     "execution_count": 442,
     "metadata": {},
     "output_type": "execute_result"
    }
   ],
   "source": [
    "num_rounds = int(sum(best_rounds) / len(best_rounds))\n",
    "num_rounds"
   ]
  },
  {
   "cell_type": "code",
   "execution_count": null,
   "id": "732df1f8",
   "metadata": {},
   "outputs": [
    {
     "name": "stdout",
     "output_type": "stream",
     "text": [
      "[15:13:32] WARNING: C:\\Users\\dev-admin\\croot2\\xgboost-split_1675461376218\\work\\src\\learner.cc:767: \n",
      "Parameters: { \"n_estimators\" } are not used.\n",
      "\n"
     ]
    }
   ],
   "source": [
    "# Prepare the features and target\n",
    "X = df[second_intersection]\n",
    "y = df[RESPONSE_VAR]\n",
    "\n",
    "X_train = train[second_intersection]\n",
    "y_train = train[RESPONSE_VAR]\n",
    "\n",
    "# Parameters for XGBoost\n",
    "params = {\n",
    "    'objective': 'reg:squarederror',  # Regression task\n",
    "    'eval_metric': 'rmse',  # We use RMSE for evaluation\n",
    "    'max_depth': 5,\n",
    "    'learning_rate': 0.1,\n",
    "    'n_estimators': 250,  # Sufficient large number for early stopping\n",
    "}\n",
    "\n",
    "# Convert to DMatrix for XGBoost\n",
    "dtrain = xgb.DMatrix(X_train, label=y_train)\n",
    "dfull = xgb.DMatrix(X, label=y)\n",
    "\n",
    "# Train the final model with the best number of rounds\n",
    "model = xgb.train(\n",
    "    params=params,\n",
    "    dtrain=dtrain,\n",
    "    num_boost_round=num_rounds\n",
    ")"
   ]
  },
  {
   "cell_type": "code",
   "execution_count": null,
   "id": "09af2e6a",
   "metadata": {},
   "outputs": [],
   "source": [
    "# Predict on the test set\n",
    "y_pred = model.predict(dfull)\n",
    "\n",
    "# Extract feature importances for this iteration\n",
    "feature_importances = model.get_score(importance_type='gain')\n",
    "\n",
    "# Sort the feature importances in descending order\n",
    "sorted_importance = sorted(feature_importances.items(), key=lambda x: x[1], reverse=True)"
   ]
  },
  {
   "cell_type": "code",
   "execution_count": null,
   "id": "633aa931",
   "metadata": {},
   "outputs": [
    {
     "data": {
      "text/plain": [
       "[('close_t+5', 648.4573974609375),\n",
       " ('close_t+4', 69.8475570678711),\n",
       " ('high', 1.5642441511154175),\n",
       " ('finbert_37', 0.13905590772628784),\n",
       " ('low', 0.10789298266172409),\n",
       " ('open', 0.08761002123355865),\n",
       " ('finbert_21', 0.07694921642541885),\n",
       " ('finbert_6', 0.06275570392608643),\n",
       " ('drawdown', 0.06234486401081085),\n",
       " ('finbert_1', 0.06071232631802559),\n",
       " ('sma_10', 0.05839020386338234),\n",
       " ('finbert_2', 0.05436217784881592),\n",
       " ('finbert_10', 0.05401524528861046),\n",
       " ('finbert_130', 0.049822453409433365),\n",
       " ('volume', 0.04779455438256264),\n",
       " ('finbert_0', 0.04772530496120453)]"
      ]
     },
     "execution_count": 445,
     "metadata": {},
     "output_type": "execute_result"
    }
   ],
   "source": [
    "sorted_importance"
   ]
  },
  {
   "cell_type": "markdown",
   "id": "7a016197",
   "metadata": {},
   "source": [
    "### Plot predictions on train going into test set\n",
    "- What % of the time is the prediction directionally correct?\n",
    "- How accurate is the prediction?"
   ]
  },
  {
   "cell_type": "code",
   "execution_count": null,
   "id": "3d2f26c6",
   "metadata": {},
   "outputs": [],
   "source": [
    "TEST_START_INDEX = 200"
   ]
  },
  {
   "cell_type": "code",
   "execution_count": null,
   "id": "cf77abbc",
   "metadata": {},
   "outputs": [
    {
     "data": {
      "text/plain": [
       "<matplotlib.lines.Line2D at 0x176bc23e130>"
      ]
     },
     "execution_count": 447,
     "metadata": {},
     "output_type": "execute_result"
    },
    {
     "data": {
      "image/png": "[encoded data removed]",
      "text/plain": [
       "<Figure size 640x480 with 1 Axes>"
      ]
     },
     "metadata": {},
     "output_type": "display_data"
    }
   ],
   "source": [
    "plt.plot(df[\"date\"], y_pred, color=\"orange\")\n",
    "plt.plot(df[\"date\"], df[RESPONSE_VAR], color = \"blue\")\n",
    "plt.legend(labels=[\"Prediction\", \"Actual\"])\n",
    "plt.axvline(TEST_START_INDEX, color=\"red\", linestyle=\"--\")"
   ]
  },
  {
   "cell_type": "code",
   "execution_count": null,
   "id": "50663e20",
   "metadata": {},
   "outputs": [],
   "source": []
  },
  {
   "cell_type": "code",
   "execution_count": null,
   "id": "33759f6d",
   "metadata": {},
   "outputs": [
    {
     "data": {
      "text/plain": [
       "<matplotlib.legend.Legend at 0x176ba682eb0>"
      ]
     },
     "execution_count": 448,
     "metadata": {},
     "output_type": "execute_result"
    },
    {
     "data": {
      "image/png": "[encoded data removed]",
      "text/plain": [
       "<Figure size 640x480 with 1 Axes>"
      ]
     },
     "metadata": {},
     "output_type": "display_data"
    }
   ],
   "source": [
    "plt.plot(df.loc[TEST_START_INDEX:, \"date\"], y_pred[TEST_START_INDEX:], color=\"orange\")\n",
    "plt.plot(df.loc[TEST_START_INDEX:, \"date\"], df.loc[TEST_START_INDEX:, RESPONSE_VAR], color = \"blue\")\n",
    "plt.legend(labels=[\"Prediction\", \"Actual\"])"
   ]
  },
  {
   "cell_type": "markdown",
   "id": "2db24b2e",
   "metadata": {},
   "source": [
    "## Testing strategy vs. Buy and Hold"
   ]
  },
  {
   "cell_type": "code",
   "execution_count": null,
   "id": "1d9501ef",
   "metadata": {},
   "outputs": [
    {
     "data": {
      "image/png": "[encoded data removed]",
      "text/plain": [
       "<Figure size 1000x500 with 1 Axes>"
      ]
     },
     "metadata": {},
     "output_type": "display_data"
    }
   ],
   "source": [
    "import pandas as pd\n",
    "import numpy as np\n",
    "import matplotlib.pyplot as plt\n",
    "\n",
    "# Assume y_pred is an array of predicted close prices\n",
    "# Assume df contains 'date' and actual close price in RESPONSE_VAR\n",
    "# Assume TEST_START_INDEX is the starting index of your OOT predictions\n",
    "\n",
    "# 1. Extract test window\n",
    "test_df = df.iloc[TEST_START_INDEX:].copy()\n",
    "test_df[\"prediction\"] = y_pred[TEST_START_INDEX:]\n",
    "\n",
    "# 2. Calculate next-day return from actual closes\n",
    "test_df[\"actual_close_t\"] = test_df[\"close\"]\n",
    "test_df[f\"actual_{RESPONSE_VAR}\"] = test_df[\"actual_close_t\"].shift(-5)\n",
    "test_df[\"actual_return\"] = (test_df[f\"actual_{RESPONSE_VAR}\"] - test_df[\"actual_close_t\"]) / test_df[\"actual_close_t\"]\n",
    "\n",
    "# 3. Calculate model's expected return\n",
    "test_df[\"predicted_return\"] = (test_df[\"prediction\"] - test_df[\"actual_close_t\"]) / test_df[\"actual_close_t\"]\n",
    "\n",
    "# 4. Define buy signal: model predicts next-day return > 0\n",
    "test_df[\"signal\"] = (test_df[\"predicted_return\"] > 0).astype(int)\n",
    "\n",
    "# 5. Calculate strategy return: earn return only when signal == 1\n",
    "test_df[\"strategy_return\"] = test_df[\"actual_return\"] * test_df[\"signal\"]\n",
    "\n",
    "# 6. Calculate cumulative returns\n",
    "test_df[\"cumulative_market\"] = (1 + test_df[\"actual_return\"].fillna(0)).cumprod()\n",
    "test_df[\"cumulative_strategy\"] = (1 + test_df[\"strategy_return\"].fillna(0)).cumprod()\n",
    "\n",
    "# 7. Plot results\n",
    "plt.figure(figsize=(10, 5))\n",
    "plt.plot(test_df[\"date\"], test_df[\"cumulative_market\"], label=\"Market (Buy & Hold)\", color='blue')\n",
    "plt.plot(test_df[\"date\"], test_df[\"cumulative_strategy\"], label=\"Model Strategy\", color='orange')\n",
    "plt.legend()\n",
    "plt.xlabel(\"Date\")\n",
    "plt.ylabel(\"Cumulative Return\")\n",
    "plt.title(\"Daily Buy/Hold Strategy Based on Model Prediction\")\n",
    "plt.grid(True)\n",
    "plt.tight_layout()\n",
    "plt.show()\n"
   ]
  },
  {
   "cell_type": "code",
   "execution_count": null,
   "id": "6367ff34",
   "metadata": {},
   "outputs": [],
   "source": []
  }
 ],
 "metadata": {
  "kernelspec": {
   "display_name": "tier",
   "language": "python",
   "name": "python3"
  },
  "language_info": {
   "codemirror_mode": {
    "name": "ipython",
    "version": 3
   },
   "file_extension": ".py",
   "mimetype": "text/x-python",
   "name": "python",
   "nbconvert_exporter": "python",
   "pygments_lexer": "ipython3",
   "version": "3.8.19"
  }
 },
 "nbformat": 4,
 "nbformat_minor": 5
}
