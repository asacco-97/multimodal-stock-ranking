{
 "cells": [
  {
   "cell_type": "markdown",
   "id": "ec90ed6b",
   "metadata": {},
   "source": [
    "# GBM\n",
    "- Data Split \n",
    "    - Apply 80/20 split by Ticker\n",
    "    - For calculating performance, use 5 fold cross validation (RMSE, Accuracy (1 if positive, 0 if not))\n",
    "- Build GBM by Ticker"
   ]
  },
  {
   "cell_type": "code",
   "execution_count": 171,
   "id": "51e3b177",
   "metadata": {},
   "outputs": [],
   "source": [
    "import xgboost\n",
    "import pandas as pd\n",
    "import numpy as np\n",
    "import seaborn as sns\n",
    "import matplotlib.pyplot as plt"
   ]
  },
  {
   "cell_type": "code",
   "execution_count": 172,
   "id": "93359319",
   "metadata": {},
   "outputs": [],
   "source": [
    "TICKER = \"TSLA\"\n",
    "TEST_FRAC = 0.20\n",
    "RESPONSE_VAR = \"close_t+1\""
   ]
  },
  {
   "cell_type": "code",
   "execution_count": 173,
   "id": "c06694af",
   "metadata": {},
   "outputs": [],
   "source": [
    "df = pd.read_parquet(\"../data/processed/daily_with_finbert_and_indicators.parquet\")"
   ]
  },
  {
   "cell_type": "code",
   "execution_count": 174,
   "id": "d717c8bd",
   "metadata": {},
   "outputs": [
    {
     "data": {
      "text/plain": [
       "(2490, 805)"
      ]
     },
     "execution_count": 174,
     "metadata": {},
     "output_type": "execute_result"
    }
   ],
   "source": [
    "df.shape"
   ]
  },
  {
   "cell_type": "code",
   "execution_count": 175,
   "id": "a3c8c032",
   "metadata": {},
   "outputs": [
    {
     "data": {
      "text/html": [
       "<div>\n",
       "<style scoped>\n",
       "    .dataframe tbody tr th:only-of-type {\n",
       "        vertical-align: middle;\n",
       "    }\n",
       "\n",
       "    .dataframe tbody tr th {\n",
       "        vertical-align: top;\n",
       "    }\n",
       "\n",
       "    .dataframe thead th {\n",
       "        text-align: right;\n",
       "    }\n",
       "</style>\n",
       "<table border=\"1\" class=\"dataframe\">\n",
       "  <thead>\n",
       "    <tr style=\"text-align: right;\">\n",
       "      <th></th>\n",
       "      <th>ticker</th>\n",
       "      <th>date</th>\n",
       "      <th>open</th>\n",
       "      <th>high</th>\n",
       "      <th>low</th>\n",
       "      <th>close</th>\n",
       "      <th>volume</th>\n",
       "      <th>return_t+1</th>\n",
       "      <th>headlines</th>\n",
       "      <th>finbert_0</th>\n",
       "      <th>...</th>\n",
       "      <th>open_smoothed_alpha:0.9</th>\n",
       "      <th>close_smoothed_alpha:0.25</th>\n",
       "      <th>close_smoothed_alpha:0.75</th>\n",
       "      <th>close_smoothed_alpha:0.9</th>\n",
       "      <th>return_t+1_smoothed_alpha:0.25</th>\n",
       "      <th>return_smoothed_alpha:0.25</th>\n",
       "      <th>return_t+1_smoothed_alpha:0.75</th>\n",
       "      <th>return_smoothed_alpha:0.75</th>\n",
       "      <th>return_t+1_smoothed_alpha:0.9</th>\n",
       "      <th>return_smoothed_alpha:0.9</th>\n",
       "    </tr>\n",
       "  </thead>\n",
       "  <tbody>\n",
       "    <tr>\n",
       "      <th>0</th>\n",
       "      <td>AAPL</td>\n",
       "      <td>2024-05-01</td>\n",
       "      <td>169.580002</td>\n",
       "      <td>172.710007</td>\n",
       "      <td>169.110001</td>\n",
       "      <td>169.300003</td>\n",
       "      <td>50383100.0</td>\n",
       "      <td>0.022032</td>\n",
       "      <td>[]</td>\n",
       "      <td>0.000000</td>\n",
       "      <td>...</td>\n",
       "      <td>169.580002</td>\n",
       "      <td>169.300003</td>\n",
       "      <td>169.300003</td>\n",
       "      <td>169.300003</td>\n",
       "      <td>0.022032</td>\n",
       "      <td>NaN</td>\n",
       "      <td>0.022032</td>\n",
       "      <td>NaN</td>\n",
       "      <td>0.022032</td>\n",
       "      <td>NaN</td>\n",
       "    </tr>\n",
       "    <tr>\n",
       "      <th>1</th>\n",
       "      <td>AAPL</td>\n",
       "      <td>2024-05-02</td>\n",
       "      <td>172.509995</td>\n",
       "      <td>173.419998</td>\n",
       "      <td>170.889999</td>\n",
       "      <td>173.029999</td>\n",
       "      <td>94214900.0</td>\n",
       "      <td>0.059816</td>\n",
       "      <td>[]</td>\n",
       "      <td>0.000000</td>\n",
       "      <td>...</td>\n",
       "      <td>172.216995</td>\n",
       "      <td>170.232502</td>\n",
       "      <td>172.097500</td>\n",
       "      <td>172.656999</td>\n",
       "      <td>0.031478</td>\n",
       "      <td>0.022032</td>\n",
       "      <td>0.050370</td>\n",
       "      <td>0.022032</td>\n",
       "      <td>0.056038</td>\n",
       "      <td>0.022032</td>\n",
       "    </tr>\n",
       "    <tr>\n",
       "      <th>2</th>\n",
       "      <td>AAPL</td>\n",
       "      <td>2024-05-03</td>\n",
       "      <td>186.649994</td>\n",
       "      <td>187.000000</td>\n",
       "      <td>182.660004</td>\n",
       "      <td>183.380005</td>\n",
       "      <td>163224100.0</td>\n",
       "      <td>-0.009107</td>\n",
       "      <td>[]</td>\n",
       "      <td>0.000000</td>\n",
       "      <td>...</td>\n",
       "      <td>185.206694</td>\n",
       "      <td>173.519378</td>\n",
       "      <td>180.559379</td>\n",
       "      <td>182.307704</td>\n",
       "      <td>0.021332</td>\n",
       "      <td>0.031478</td>\n",
       "      <td>0.005762</td>\n",
       "      <td>0.050370</td>\n",
       "      <td>-0.002592</td>\n",
       "      <td>0.056038</td>\n",
       "    </tr>\n",
       "    <tr>\n",
       "      <th>3</th>\n",
       "      <td>AAPL</td>\n",
       "      <td>2024-05-06</td>\n",
       "      <td>182.350006</td>\n",
       "      <td>184.199997</td>\n",
       "      <td>180.419998</td>\n",
       "      <td>181.710007</td>\n",
       "      <td>78569700.0</td>\n",
       "      <td>0.003797</td>\n",
       "      <td>[]</td>\n",
       "      <td>0.000000</td>\n",
       "      <td>...</td>\n",
       "      <td>182.635675</td>\n",
       "      <td>175.567035</td>\n",
       "      <td>181.422350</td>\n",
       "      <td>181.769776</td>\n",
       "      <td>0.016948</td>\n",
       "      <td>0.021332</td>\n",
       "      <td>0.004289</td>\n",
       "      <td>0.005762</td>\n",
       "      <td>0.003158</td>\n",
       "      <td>-0.002592</td>\n",
       "    </tr>\n",
       "    <tr>\n",
       "      <th>4</th>\n",
       "      <td>AAPL</td>\n",
       "      <td>2024-05-07</td>\n",
       "      <td>183.449997</td>\n",
       "      <td>184.899994</td>\n",
       "      <td>181.320007</td>\n",
       "      <td>182.399994</td>\n",
       "      <td>77305800.0</td>\n",
       "      <td>0.001864</td>\n",
       "      <td>[From Apple to Wayfair: A Lot of Earnings Resu...</td>\n",
       "      <td>0.030524</td>\n",
       "      <td>...</td>\n",
       "      <td>183.368565</td>\n",
       "      <td>177.275275</td>\n",
       "      <td>182.155583</td>\n",
       "      <td>182.336972</td>\n",
       "      <td>0.013177</td>\n",
       "      <td>0.016948</td>\n",
       "      <td>0.002470</td>\n",
       "      <td>0.004289</td>\n",
       "      <td>0.001994</td>\n",
       "      <td>0.003158</td>\n",
       "    </tr>\n",
       "  </tbody>\n",
       "</table>\n",
       "<p>5 rows × 805 columns</p>\n",
       "</div>"
      ],
      "text/plain": [
       "  ticker        date        open        high         low       close  \\\n",
       "0   AAPL  2024-05-01  169.580002  172.710007  169.110001  169.300003   \n",
       "1   AAPL  2024-05-02  172.509995  173.419998  170.889999  173.029999   \n",
       "2   AAPL  2024-05-03  186.649994  187.000000  182.660004  183.380005   \n",
       "3   AAPL  2024-05-06  182.350006  184.199997  180.419998  181.710007   \n",
       "4   AAPL  2024-05-07  183.449997  184.899994  181.320007  182.399994   \n",
       "\n",
       "        volume  return_t+1                                          headlines  \\\n",
       "0   50383100.0    0.022032                                                 []   \n",
       "1   94214900.0    0.059816                                                 []   \n",
       "2  163224100.0   -0.009107                                                 []   \n",
       "3   78569700.0    0.003797                                                 []   \n",
       "4   77305800.0    0.001864  [From Apple to Wayfair: A Lot of Earnings Resu...   \n",
       "\n",
       "   finbert_0  ...  open_smoothed_alpha:0.9  close_smoothed_alpha:0.25  \\\n",
       "0   0.000000  ...               169.580002                 169.300003   \n",
       "1   0.000000  ...               172.216995                 170.232502   \n",
       "2   0.000000  ...               185.206694                 173.519378   \n",
       "3   0.000000  ...               182.635675                 175.567035   \n",
       "4   0.030524  ...               183.368565                 177.275275   \n",
       "\n",
       "   close_smoothed_alpha:0.75  close_smoothed_alpha:0.9  \\\n",
       "0                 169.300003                169.300003   \n",
       "1                 172.097500                172.656999   \n",
       "2                 180.559379                182.307704   \n",
       "3                 181.422350                181.769776   \n",
       "4                 182.155583                182.336972   \n",
       "\n",
       "   return_t+1_smoothed_alpha:0.25  return_smoothed_alpha:0.25  \\\n",
       "0                        0.022032                         NaN   \n",
       "1                        0.031478                    0.022032   \n",
       "2                        0.021332                    0.031478   \n",
       "3                        0.016948                    0.021332   \n",
       "4                        0.013177                    0.016948   \n",
       "\n",
       "   return_t+1_smoothed_alpha:0.75  return_smoothed_alpha:0.75  \\\n",
       "0                        0.022032                         NaN   \n",
       "1                        0.050370                    0.022032   \n",
       "2                        0.005762                    0.050370   \n",
       "3                        0.004289                    0.005762   \n",
       "4                        0.002470                    0.004289   \n",
       "\n",
       "   return_t+1_smoothed_alpha:0.9  return_smoothed_alpha:0.9  \n",
       "0                       0.022032                        NaN  \n",
       "1                       0.056038                   0.022032  \n",
       "2                      -0.002592                   0.056038  \n",
       "3                       0.003158                  -0.002592  \n",
       "4                       0.001994                   0.003158  \n",
       "\n",
       "[5 rows x 805 columns]"
      ]
     },
     "execution_count": 175,
     "metadata": {},
     "output_type": "execute_result"
    }
   ],
   "source": [
    "df.head()"
   ]
  },
  {
   "cell_type": "code",
   "execution_count": 176,
   "id": "e9446742",
   "metadata": {},
   "outputs": [
    {
     "data": {
      "text/html": [
       "<div>\n",
       "<style scoped>\n",
       "    .dataframe tbody tr th:only-of-type {\n",
       "        vertical-align: middle;\n",
       "    }\n",
       "\n",
       "    .dataframe tbody tr th {\n",
       "        vertical-align: top;\n",
       "    }\n",
       "\n",
       "    .dataframe thead th {\n",
       "        text-align: right;\n",
       "    }\n",
       "</style>\n",
       "<table border=\"1\" class=\"dataframe\">\n",
       "  <thead>\n",
       "    <tr style=\"text-align: right;\">\n",
       "      <th></th>\n",
       "      <th>ticker</th>\n",
       "      <th>date</th>\n",
       "      <th>open</th>\n",
       "      <th>high</th>\n",
       "      <th>low</th>\n",
       "      <th>close</th>\n",
       "      <th>volume</th>\n",
       "      <th>return_t+1</th>\n",
       "      <th>headlines</th>\n",
       "      <th>finbert_0</th>\n",
       "      <th>...</th>\n",
       "      <th>open_smoothed_alpha:0.9</th>\n",
       "      <th>close_smoothed_alpha:0.25</th>\n",
       "      <th>close_smoothed_alpha:0.75</th>\n",
       "      <th>close_smoothed_alpha:0.9</th>\n",
       "      <th>return_t+1_smoothed_alpha:0.25</th>\n",
       "      <th>return_smoothed_alpha:0.25</th>\n",
       "      <th>return_t+1_smoothed_alpha:0.75</th>\n",
       "      <th>return_smoothed_alpha:0.75</th>\n",
       "      <th>return_t+1_smoothed_alpha:0.9</th>\n",
       "      <th>return_smoothed_alpha:0.9</th>\n",
       "    </tr>\n",
       "  </thead>\n",
       "  <tbody>\n",
       "    <tr>\n",
       "      <th>2485</th>\n",
       "      <td>XOM</td>\n",
       "      <td>2025-04-23</td>\n",
       "      <td>108.809998</td>\n",
       "      <td>109.300003</td>\n",
       "      <td>106.470001</td>\n",
       "      <td>107.370003</td>\n",
       "      <td>14235700.0</td>\n",
       "      <td>0.011735</td>\n",
       "      <td>[Will Exxon (XOM) Beat Estimates Again in Its ...</td>\n",
       "      <td>0.067738</td>\n",
       "      <td>...</td>\n",
       "      <td>108.536702</td>\n",
       "      <td>106.228441</td>\n",
       "      <td>107.430955</td>\n",
       "      <td>107.434789</td>\n",
       "      <td>0.005872</td>\n",
       "      <td>0.003918</td>\n",
       "      <td>0.008416</td>\n",
       "      <td>-0.001541</td>\n",
       "      <td>0.010030</td>\n",
       "      <td>-0.005316</td>\n",
       "    </tr>\n",
       "    <tr>\n",
       "      <th>2486</th>\n",
       "      <td>XOM</td>\n",
       "      <td>2025-04-24</td>\n",
       "      <td>107.970001</td>\n",
       "      <td>108.879997</td>\n",
       "      <td>106.959999</td>\n",
       "      <td>108.629997</td>\n",
       "      <td>9849600.0</td>\n",
       "      <td>-0.000552</td>\n",
       "      <td>[Exxon Mobil (NYSE:XOM) Partners With Calpine ...</td>\n",
       "      <td>0.076386</td>\n",
       "      <td>...</td>\n",
       "      <td>108.026671</td>\n",
       "      <td>106.828830</td>\n",
       "      <td>108.330237</td>\n",
       "      <td>108.510476</td>\n",
       "      <td>0.004266</td>\n",
       "      <td>0.005872</td>\n",
       "      <td>0.001690</td>\n",
       "      <td>0.008416</td>\n",
       "      <td>0.000506</td>\n",
       "      <td>0.010030</td>\n",
       "    </tr>\n",
       "    <tr>\n",
       "      <th>2487</th>\n",
       "      <td>XOM</td>\n",
       "      <td>2025-04-25</td>\n",
       "      <td>108.139999</td>\n",
       "      <td>108.760002</td>\n",
       "      <td>107.419998</td>\n",
       "      <td>108.570000</td>\n",
       "      <td>11245800.0</td>\n",
       "      <td>0.000553</td>\n",
       "      <td>[Guyana Q1 oil production sees 3% YoY increase...</td>\n",
       "      <td>-0.027245</td>\n",
       "      <td>...</td>\n",
       "      <td>108.128667</td>\n",
       "      <td>107.264123</td>\n",
       "      <td>108.510059</td>\n",
       "      <td>108.564047</td>\n",
       "      <td>0.003338</td>\n",
       "      <td>0.004266</td>\n",
       "      <td>0.000837</td>\n",
       "      <td>0.001690</td>\n",
       "      <td>0.000548</td>\n",
       "      <td>0.000506</td>\n",
       "    </tr>\n",
       "    <tr>\n",
       "      <th>2488</th>\n",
       "      <td>XOM</td>\n",
       "      <td>2025-04-28</td>\n",
       "      <td>108.750000</td>\n",
       "      <td>109.250000</td>\n",
       "      <td>107.680000</td>\n",
       "      <td>108.629997</td>\n",
       "      <td>13890900.0</td>\n",
       "      <td>-0.002485</td>\n",
       "      <td>[Oil Slumps as Traders Await Next Moves in Chi...</td>\n",
       "      <td>-0.336978</td>\n",
       "      <td>...</td>\n",
       "      <td>108.687867</td>\n",
       "      <td>107.605591</td>\n",
       "      <td>108.600013</td>\n",
       "      <td>108.623402</td>\n",
       "      <td>0.001882</td>\n",
       "      <td>0.003338</td>\n",
       "      <td>-0.001655</td>\n",
       "      <td>0.000837</td>\n",
       "      <td>-0.002182</td>\n",
       "      <td>0.000548</td>\n",
       "    </tr>\n",
       "    <tr>\n",
       "      <th>2489</th>\n",
       "      <td>XOM</td>\n",
       "      <td>2025-04-29</td>\n",
       "      <td>107.739998</td>\n",
       "      <td>108.830002</td>\n",
       "      <td>107.519997</td>\n",
       "      <td>108.360001</td>\n",
       "      <td>9483100.0</td>\n",
       "      <td>-0.025194</td>\n",
       "      <td>[Exxon Mobil Q1 Earnings Boosted by Upstream, ...</td>\n",
       "      <td>-0.062517</td>\n",
       "      <td>...</td>\n",
       "      <td>107.834785</td>\n",
       "      <td>107.794194</td>\n",
       "      <td>108.420004</td>\n",
       "      <td>108.386341</td>\n",
       "      <td>-0.004887</td>\n",
       "      <td>0.001882</td>\n",
       "      <td>-0.019309</td>\n",
       "      <td>-0.001655</td>\n",
       "      <td>-0.022893</td>\n",
       "      <td>-0.002182</td>\n",
       "    </tr>\n",
       "  </tbody>\n",
       "</table>\n",
       "<p>5 rows × 805 columns</p>\n",
       "</div>"
      ],
      "text/plain": [
       "     ticker        date        open        high         low       close  \\\n",
       "2485    XOM  2025-04-23  108.809998  109.300003  106.470001  107.370003   \n",
       "2486    XOM  2025-04-24  107.970001  108.879997  106.959999  108.629997   \n",
       "2487    XOM  2025-04-25  108.139999  108.760002  107.419998  108.570000   \n",
       "2488    XOM  2025-04-28  108.750000  109.250000  107.680000  108.629997   \n",
       "2489    XOM  2025-04-29  107.739998  108.830002  107.519997  108.360001   \n",
       "\n",
       "          volume  return_t+1  \\\n",
       "2485  14235700.0    0.011735   \n",
       "2486   9849600.0   -0.000552   \n",
       "2487  11245800.0    0.000553   \n",
       "2488  13890900.0   -0.002485   \n",
       "2489   9483100.0   -0.025194   \n",
       "\n",
       "                                              headlines  finbert_0  ...  \\\n",
       "2485  [Will Exxon (XOM) Beat Estimates Again in Its ...   0.067738  ...   \n",
       "2486  [Exxon Mobil (NYSE:XOM) Partners With Calpine ...   0.076386  ...   \n",
       "2487  [Guyana Q1 oil production sees 3% YoY increase...  -0.027245  ...   \n",
       "2488  [Oil Slumps as Traders Await Next Moves in Chi...  -0.336978  ...   \n",
       "2489  [Exxon Mobil Q1 Earnings Boosted by Upstream, ...  -0.062517  ...   \n",
       "\n",
       "      open_smoothed_alpha:0.9  close_smoothed_alpha:0.25  \\\n",
       "2485               108.536702                 106.228441   \n",
       "2486               108.026671                 106.828830   \n",
       "2487               108.128667                 107.264123   \n",
       "2488               108.687867                 107.605591   \n",
       "2489               107.834785                 107.794194   \n",
       "\n",
       "      close_smoothed_alpha:0.75  close_smoothed_alpha:0.9  \\\n",
       "2485                 107.430955                107.434789   \n",
       "2486                 108.330237                108.510476   \n",
       "2487                 108.510059                108.564047   \n",
       "2488                 108.600013                108.623402   \n",
       "2489                 108.420004                108.386341   \n",
       "\n",
       "      return_t+1_smoothed_alpha:0.25  return_smoothed_alpha:0.25  \\\n",
       "2485                        0.005872                    0.003918   \n",
       "2486                        0.004266                    0.005872   \n",
       "2487                        0.003338                    0.004266   \n",
       "2488                        0.001882                    0.003338   \n",
       "2489                       -0.004887                    0.001882   \n",
       "\n",
       "      return_t+1_smoothed_alpha:0.75  return_smoothed_alpha:0.75  \\\n",
       "2485                        0.008416                   -0.001541   \n",
       "2486                        0.001690                    0.008416   \n",
       "2487                        0.000837                    0.001690   \n",
       "2488                       -0.001655                    0.000837   \n",
       "2489                       -0.019309                   -0.001655   \n",
       "\n",
       "      return_t+1_smoothed_alpha:0.9  return_smoothed_alpha:0.9  \n",
       "2485                       0.010030                  -0.005316  \n",
       "2486                       0.000506                   0.010030  \n",
       "2487                       0.000548                   0.000506  \n",
       "2488                      -0.002182                   0.000548  \n",
       "2489                      -0.022893                  -0.002182  \n",
       "\n",
       "[5 rows x 805 columns]"
      ]
     },
     "execution_count": 176,
     "metadata": {},
     "output_type": "execute_result"
    }
   ],
   "source": [
    "df.tail()"
   ]
  },
  {
   "cell_type": "code",
   "execution_count": null,
   "id": "285c48a4",
   "metadata": {},
   "outputs": [],
   "source": []
  },
  {
   "cell_type": "markdown",
   "id": "8338e707",
   "metadata": {},
   "source": [
    "## Add Close @ T+1 as a variable to test modeling"
   ]
  },
  {
   "cell_type": "code",
   "execution_count": 177,
   "id": "dae0a702",
   "metadata": {},
   "outputs": [],
   "source": [
    "df[\"close_t+1\"] = df[\"close\"].shift(-1)"
   ]
  },
  {
   "cell_type": "code",
   "execution_count": 178,
   "id": "e402dddc",
   "metadata": {},
   "outputs": [
    {
     "data": {
      "text/html": [
       "<div>\n",
       "<style scoped>\n",
       "    .dataframe tbody tr th:only-of-type {\n",
       "        vertical-align: middle;\n",
       "    }\n",
       "\n",
       "    .dataframe tbody tr th {\n",
       "        vertical-align: top;\n",
       "    }\n",
       "\n",
       "    .dataframe thead th {\n",
       "        text-align: right;\n",
       "    }\n",
       "</style>\n",
       "<table border=\"1\" class=\"dataframe\">\n",
       "  <thead>\n",
       "    <tr style=\"text-align: right;\">\n",
       "      <th></th>\n",
       "      <th>close</th>\n",
       "      <th>close_t+1</th>\n",
       "    </tr>\n",
       "  </thead>\n",
       "  <tbody>\n",
       "    <tr>\n",
       "      <th>0</th>\n",
       "      <td>169.300003</td>\n",
       "      <td>173.029999</td>\n",
       "    </tr>\n",
       "    <tr>\n",
       "      <th>1</th>\n",
       "      <td>173.029999</td>\n",
       "      <td>183.380005</td>\n",
       "    </tr>\n",
       "    <tr>\n",
       "      <th>2</th>\n",
       "      <td>183.380005</td>\n",
       "      <td>181.710007</td>\n",
       "    </tr>\n",
       "    <tr>\n",
       "      <th>3</th>\n",
       "      <td>181.710007</td>\n",
       "      <td>182.399994</td>\n",
       "    </tr>\n",
       "    <tr>\n",
       "      <th>4</th>\n",
       "      <td>182.399994</td>\n",
       "      <td>182.740005</td>\n",
       "    </tr>\n",
       "  </tbody>\n",
       "</table>\n",
       "</div>"
      ],
      "text/plain": [
       "        close   close_t+1\n",
       "0  169.300003  173.029999\n",
       "1  173.029999  183.380005\n",
       "2  183.380005  181.710007\n",
       "3  181.710007  182.399994\n",
       "4  182.399994  182.740005"
      ]
     },
     "execution_count": 178,
     "metadata": {},
     "output_type": "execute_result"
    }
   ],
   "source": [
    "df[[\"close\", \"close_t+1\"]].head()"
   ]
  },
  {
   "cell_type": "markdown",
   "id": "98349bd0",
   "metadata": {},
   "source": [
    "### Apply data split\n",
    "- For initial test, build model on 80% and validate on 20% OOT\n",
    "    - Tune hyperparameters using CV on Train set\n",
    "\n",
    "- For future, always validate on most recent 2-months and add additional "
   ]
  },
  {
   "cell_type": "code",
   "execution_count": 179,
   "id": "7155bd10",
   "metadata": {},
   "outputs": [],
   "source": [
    "df = df.query(f\"ticker == '{TICKER}'\").reset_index(drop=True)"
   ]
  },
  {
   "cell_type": "code",
   "execution_count": 180,
   "id": "9c9f0c3c",
   "metadata": {},
   "outputs": [],
   "source": [
    "df = df.sort_values(\"date\")"
   ]
  },
  {
   "cell_type": "code",
   "execution_count": 181,
   "id": "5414bad5",
   "metadata": {},
   "outputs": [],
   "source": [
    "train = df.loc[df.index <= int(df.shape[0] * (1 - TEST_FRAC)), :]\n",
    "test = df.loc[df.index > int(df.shape[0] * (1 - TEST_FRAC)), :]"
   ]
  },
  {
   "cell_type": "code",
   "execution_count": 182,
   "id": "e5c183c3",
   "metadata": {},
   "outputs": [
    {
     "data": {
      "text/plain": [
       "((200, 806), (49, 806))"
      ]
     },
     "execution_count": 182,
     "metadata": {},
     "output_type": "execute_result"
    }
   ],
   "source": [
    "train.shape, test.shape"
   ]
  },
  {
   "cell_type": "markdown",
   "id": "59f73a2c",
   "metadata": {},
   "source": [
    "### Build initial model on `returns_t+1` \n",
    "- Use ARIMA as a baseline (and potentially use as a feature)\n",
    "- Test using `close_t+1` and `return_t+1_>0`"
   ]
  },
  {
   "cell_type": "code",
   "execution_count": 183,
   "id": "1bfda5fa",
   "metadata": {},
   "outputs": [
    {
     "name": "stdout",
     "output_type": "stream",
     "text": [
      "['headlines', 'return_t+1', 'return_t+1_smoothed_alpha:0.25', 'return_t+1_smoothed_alpha:0.75', 'return_t+1_smoothed_alpha:0.9', 'close_t+1']\n"
     ]
    }
   ],
   "source": [
    "keys = [\"ticker\", \"date\"]\n",
    "non_modeling_vars = [\"headlines\", *[col for col in df.columns if \"t+1\" in col]]\n",
    "print(non_modeling_vars)"
   ]
  },
  {
   "cell_type": "code",
   "execution_count": 184,
   "id": "9a3a6b70",
   "metadata": {},
   "outputs": [
    {
     "name": "stdout",
     "output_type": "stream",
     "text": [
      "[13:32:19] WARNING: C:\\Users\\dev-admin\\croot2\\xgboost-split_1675461376218\\work\\src\\learner.cc:767: \n",
      "Parameters: { \"n_estimators\" } are not used.\n",
      "\n",
      "[13:32:19] WARNING: C:\\Users\\dev-admin\\croot2\\xgboost-split_1675461376218\\work\\src\\learner.cc:767: \n",
      "Parameters: { \"n_estimators\" } are not used.\n",
      "\n",
      "[13:32:19] WARNING: C:\\Users\\dev-admin\\croot2\\xgboost-split_1675461376218\\work\\src\\learner.cc:767: \n",
      "Parameters: { \"n_estimators\" } are not used.\n",
      "\n",
      "[0]\ttrain-rmse:175.89925+3.30754\ttest-rmse:175.92742+7.62730\n",
      "[25]\ttrain-rmse:16.69372+0.04475\ttest-rmse:18.70992+4.08962\n",
      "[50]\ttrain-rmse:2.37875+0.14699\ttest-rmse:8.97048+1.83040\n",
      "[60]\ttrain-rmse:1.25652+0.15812\ttest-rmse:9.13522+1.70307\n",
      "Best boosting rounds for this split: 51\n",
      "[13:32:20] WARNING: C:\\Users\\dev-admin\\croot2\\xgboost-split_1675461376218\\work\\src\\learner.cc:767: \n",
      "Parameters: { \"n_estimators\" } are not used.\n",
      "\n",
      "RMSE for this fold: 14.343130791381643\n",
      "[13:32:20] WARNING: C:\\Users\\dev-admin\\croot2\\xgboost-split_1675461376218\\work\\src\\learner.cc:767: \n",
      "Parameters: { \"n_estimators\" } are not used.\n",
      "\n",
      "[13:32:20] WARNING: C:\\Users\\dev-admin\\croot2\\xgboost-split_1675461376218\\work\\src\\learner.cc:767: \n",
      "Parameters: { \"n_estimators\" } are not used.\n",
      "\n",
      "[13:32:20] WARNING: C:\\Users\\dev-admin\\croot2\\xgboost-split_1675461376218\\work\\src\\learner.cc:767: \n",
      "Parameters: { \"n_estimators\" } are not used.\n",
      "\n",
      "[0]\ttrain-rmse:188.51868+0.93198\ttest-rmse:188.53162+2.18636\n",
      "[25]\ttrain-rmse:16.11424+0.17277\ttest-rmse:18.57651+1.15951\n",
      "[50]\ttrain-rmse:1.87596+0.03405\ttest-rmse:9.74573+0.24205\n",
      "[75]\ttrain-rmse:0.30043+0.03040\ttest-rmse:9.35734+0.39653\n",
      "[100]\ttrain-rmse:0.06847+0.01466\ttest-rmse:9.32968+0.41147\n",
      "[125]\ttrain-rmse:0.01850+0.00459\ttest-rmse:9.32820+0.41122\n",
      "[135]\ttrain-rmse:0.01119+0.00287\ttest-rmse:9.32839+0.41112\n",
      "Best boosting rounds for this split: 126\n",
      "[13:32:24] WARNING: C:\\Users\\dev-admin\\croot2\\xgboost-split_1675461376218\\work\\src\\learner.cc:767: \n",
      "Parameters: { \"n_estimators\" } are not used.\n",
      "\n",
      "RMSE for this fold: 60.63856981673103\n",
      "[13:32:24] WARNING: C:\\Users\\dev-admin\\croot2\\xgboost-split_1675461376218\\work\\src\\learner.cc:767: \n",
      "Parameters: { \"n_estimators\" } are not used.\n",
      "\n",
      "[13:32:24] WARNING: C:\\Users\\dev-admin\\croot2\\xgboost-split_1675461376218\\work\\src\\learner.cc:767: \n",
      "Parameters: { \"n_estimators\" } are not used.\n",
      "\n",
      "[13:32:24] WARNING: C:\\Users\\dev-admin\\croot2\\xgboost-split_1675461376218\\work\\src\\learner.cc:767: \n",
      "Parameters: { \"n_estimators\" } are not used.\n",
      "\n",
      "[0]\ttrain-rmse:213.31202+2.45111\ttest-rmse:213.24381+5.30255\n",
      "[25]\ttrain-rmse:18.43723+0.24459\ttest-rmse:20.61295+3.86189\n",
      "[50]\ttrain-rmse:2.21161+0.04707\ttest-rmse:11.18934+2.10382\n",
      "[74]\ttrain-rmse:0.44907+0.04174\ttest-rmse:11.16382+1.72829\n",
      "Best boosting rounds for this split: 65\n",
      "[13:32:27] WARNING: C:\\Users\\dev-admin\\croot2\\xgboost-split_1675461376218\\work\\src\\learner.cc:767: \n",
      "Parameters: { \"n_estimators\" } are not used.\n",
      "\n",
      "RMSE for this fold: 76.0470899459481\n",
      "Average RMSE across all folds: 50.34293018468693\n"
     ]
    }
   ],
   "source": [
    "from sklearn.model_selection import TimeSeriesSplit\n",
    "from sklearn.metrics import mean_squared_error\n",
    "import xgboost as xgb\n",
    "\n",
    "# Prepare the features and target\n",
    "X = train.drop(columns=keys + non_modeling_vars)\n",
    "y = train[RESPONSE_VAR]\n",
    "\n",
    "# Parameters for XGBoost\n",
    "params = {\n",
    "    'objective': 'reg:squarederror',  # Regression task\n",
    "    'eval_metric': 'rmse',  # We use RMSE for evaluation\n",
    "    'max_depth': 5,\n",
    "    'learning_rate': 0.1,\n",
    "    'n_estimators': 250,  # Sufficient large number for early stopping\n",
    "}\n",
    "\n",
    "# TimeSeriesSplit for sequential cross-validation\n",
    "tscv = TimeSeriesSplit(n_splits=3)\n",
    "\n",
    "# Store the results of each fold for later inspection\n",
    "results = []\n",
    "feature_importances_list = []\n",
    "best_rounds = []\n",
    "\n",
    "# Perform CV for each split\n",
    "for train_index, test_index in tscv.split(X):\n",
    "    # Split the data into training and testing sets based on time series split\n",
    "    X_train, X_test = X.iloc[train_index], X.iloc[test_index]\n",
    "    y_train, y_test = y.iloc[train_index], y.iloc[test_index]\n",
    "    \n",
    "    # Convert to DMatrix for XGBoost\n",
    "    dtrain_split = xgb.DMatrix(X_train, label=y_train)\n",
    "    dtest_split = xgb.DMatrix(X_test, label=y_test)\n",
    "\n",
    "    # Perform cross-validation with early stopping\n",
    "    cv_results = xgb.cv(\n",
    "        params=params,\n",
    "        dtrain=dtrain_split,\n",
    "        num_boost_round=250,\n",
    "        nfold=3,  \n",
    "        early_stopping_rounds=10, \n",
    "        verbose_eval=25,\n",
    "        seed=99\n",
    "    )\n",
    "\n",
    "    # Extract the best number of boosting rounds based on CV performance\n",
    "    best_round = cv_results['test-rmse-mean'].argmin()\n",
    "    print(f\"Best boosting rounds for this split: {best_round}\")\n",
    "    best_rounds.append(best_round)\n",
    "    \n",
    "    # Train the final model with the best number of rounds\n",
    "    model = xgb.train(\n",
    "        params=params,\n",
    "        dtrain=dtrain_split,\n",
    "        num_boost_round=best_round\n",
    "    )\n",
    "\n",
    "    # Predict on the test set\n",
    "    y_pred = model.predict(dtest_split)\n",
    "    \n",
    "    # Evaluate the model (e.g., RMSE)\n",
    "    rmse = mean_squared_error(y_test, y_pred, squared=False)\n",
    "    print(f\"RMSE for this fold: {rmse}\")\n",
    "    results.append(rmse)\n",
    "\n",
    "    # Extract feature importances for this iteration\n",
    "    feature_importances = model.get_score(importance_type='weight')\n",
    "\n",
    "    # Sort the feature importances in descending order\n",
    "    sorted_importances = sorted(feature_importances.items(), key=lambda x: x[1], reverse=True)\n",
    "    \n",
    "    # Store the sorted feature importances in a list for this fold\n",
    "    feature_importances_list.append(dict(sorted_importances))\n",
    "    \n",
    "# Average RMSE across all folds\n",
    "average_rmse = np.mean(results)\n",
    "print(f\"Average RMSE across all folds: {average_rmse}\")\n"
   ]
  },
  {
   "cell_type": "code",
   "execution_count": 185,
   "id": "37c7cd11",
   "metadata": {},
   "outputs": [],
   "source": [
    "# Select final features by taking top 100 features from each model where there is overlap\n",
    "first_intersection = np.intersect1d(\n",
    "    list(feature_importances_list[0].keys())[:100],\n",
    "    list(feature_importances_list[1].keys())[:100]\n",
    "    )\n",
    "second_intersection = np.intersect1d(\n",
    "    first_intersection,\n",
    "    list(feature_importances_list[2].keys())[:100]\n",
    "    )"
   ]
  },
  {
   "cell_type": "code",
   "execution_count": 186,
   "id": "0b283f31",
   "metadata": {},
   "outputs": [
    {
     "data": {
      "text/plain": [
       "array(['close', 'finbert_0', 'finbert_1', 'finbert_19', 'finbert_2',\n",
       "       'finbert_253', 'finbert_281', 'finbert_386', 'finbert_390',\n",
       "       'finbert_654', 'finbert_69', 'high', 'low', 'open',\n",
       "       'return_smoothed_alpha:0.25', 'sma_20', 'sma_5', 'volatility_5',\n",
       "       'volume'], dtype='<U26')"
      ]
     },
     "execution_count": 186,
     "metadata": {},
     "output_type": "execute_result"
    }
   ],
   "source": [
    "second_intersection"
   ]
  },
  {
   "cell_type": "markdown",
   "id": "226238ba",
   "metadata": {},
   "source": [
    "## Build model on full training set with only overlapping features\n",
    "- Evaluate on test set"
   ]
  },
  {
   "cell_type": "code",
   "execution_count": 187,
   "id": "f947ae2f",
   "metadata": {},
   "outputs": [
    {
     "data": {
      "text/plain": [
       "80"
      ]
     },
     "execution_count": 187,
     "metadata": {},
     "output_type": "execute_result"
    }
   ],
   "source": [
    "num_rounds = int(sum(best_rounds) / len(best_rounds))\n",
    "num_rounds"
   ]
  },
  {
   "cell_type": "code",
   "execution_count": 189,
   "id": "732df1f8",
   "metadata": {},
   "outputs": [
    {
     "name": "stdout",
     "output_type": "stream",
     "text": [
      "[13:33:05] WARNING: C:\\Users\\dev-admin\\croot2\\xgboost-split_1675461376218\\work\\src\\learner.cc:767: \n",
      "Parameters: { \"n_estimators\" } are not used.\n",
      "\n"
     ]
    }
   ],
   "source": [
    "# Prepare the features and target\n",
    "X = df[second_intersection]\n",
    "y = df[RESPONSE_VAR]\n",
    "\n",
    "X_train = train[second_intersection]\n",
    "y_train = train[RESPONSE_VAR]\n",
    "\n",
    "# Parameters for XGBoost\n",
    "params = {\n",
    "    'objective': 'reg:squarederror',  # Regression task\n",
    "    'eval_metric': 'rmse',  # We use RMSE for evaluation\n",
    "    'max_depth': 5,\n",
    "    'learning_rate': 0.1,\n",
    "    'n_estimators': 250,  # Sufficient large number for early stopping\n",
    "}\n",
    "\n",
    "# Convert to DMatrix for XGBoost\n",
    "dtrain = xgb.DMatrix(X_train, label=y_train)\n",
    "dfull = xgb.DMatrix(X, label=y)\n",
    "\n",
    "# Train the final model with the best number of rounds\n",
    "model = xgb.train(\n",
    "    params=params,\n",
    "    dtrain=dtrain,\n",
    "    num_boost_round=num_rounds\n",
    ")"
   ]
  },
  {
   "cell_type": "code",
   "execution_count": 190,
   "id": "09af2e6a",
   "metadata": {},
   "outputs": [],
   "source": [
    "# Predict on the test set\n",
    "y_pred = model.predict(dfull)\n",
    "\n",
    "# Extract feature importances for this iteration\n",
    "feature_importances = model.get_score(importance_type='gain')\n",
    "\n",
    "# Sort the feature importances in descending order\n",
    "sorted_importance = sorted(feature_importances.items(), key=lambda x: x[1], reverse=True)"
   ]
  },
  {
   "cell_type": "code",
   "execution_count": 191,
   "id": "633aa931",
   "metadata": {},
   "outputs": [
    {
     "data": {
      "text/plain": [
       "[('close', 31705.02734375),\n",
       " ('sma_20', 13364.068359375),\n",
       " ('low', 5450.501953125),\n",
       " ('high', 3569.225830078125),\n",
       " ('open', 293.1822509765625),\n",
       " ('volatility_5', 104.69357299804688),\n",
       " ('finbert_654', 100.44763946533203),\n",
       " ('finbert_1', 76.71449279785156),\n",
       " ('return_smoothed_alpha:0.25', 65.85652923583984),\n",
       " ('sma_5', 63.81459426879883),\n",
       " ('finbert_390', 56.72386169433594),\n",
       " ('finbert_253', 55.15563201904297),\n",
       " ('finbert_386', 54.47393798828125),\n",
       " ('finbert_69', 54.35468673706055),\n",
       " ('finbert_19', 40.98419189453125),\n",
       " ('finbert_2', 39.81673812866211),\n",
       " ('finbert_281', 35.9548225402832),\n",
       " ('volume', 33.6352653503418),\n",
       " ('finbert_0', 31.780298233032227)]"
      ]
     },
     "execution_count": 191,
     "metadata": {},
     "output_type": "execute_result"
    }
   ],
   "source": [
    "sorted_importance"
   ]
  },
  {
   "cell_type": "markdown",
   "id": "7a016197",
   "metadata": {},
   "source": [
    "### Plot predictions on train going into test set\n",
    "- What % of the time is the prediction directionally correct?\n",
    "- How accurate is the prediction?"
   ]
  },
  {
   "cell_type": "code",
   "execution_count": 192,
   "id": "3d2f26c6",
   "metadata": {},
   "outputs": [],
   "source": [
    "TEST_START_INDEX = 200"
   ]
  },
  {
   "cell_type": "code",
   "execution_count": 193,
   "id": "cf77abbc",
   "metadata": {},
   "outputs": [
    {
     "data": {
      "text/plain": [
       "<matplotlib.lines.Line2D at 0x176b0f5b2b0>"
      ]
     },
     "execution_count": 193,
     "metadata": {},
     "output_type": "execute_result"
    },
    {
     "data": {
      "image/png": "[encoded data removed]",
      "text/plain": [
       "<Figure size 640x480 with 1 Axes>"
      ]
     },
     "metadata": {},
     "output_type": "display_data"
    }
   ],
   "source": [
    "plt.plot(df[\"date\"], y_pred, color=\"orange\")\n",
    "plt.plot(df[\"date\"], df[RESPONSE_VAR], color = \"blue\")\n",
    "plt.legend(labels=[\"Prediction\", \"Actual\"])\n",
    "plt.axvline(TEST_START_INDEX, color=\"red\", linestyle=\"--\")"
   ]
  },
  {
   "cell_type": "code",
   "execution_count": 194,
   "id": "33759f6d",
   "metadata": {},
   "outputs": [
    {
     "data": {
      "text/plain": [
       "<matplotlib.legend.Legend at 0x176a9542b20>"
      ]
     },
     "execution_count": 194,
     "metadata": {},
     "output_type": "execute_result"
    },
    {
     "data": {
      "image/png": "[encoded data removed]",
      "text/plain": [
       "<Figure size 640x480 with 1 Axes>"
      ]
     },
     "metadata": {},
     "output_type": "display_data"
    }
   ],
   "source": [
    "plt.plot(df.loc[TEST_START_INDEX:, \"date\"], y_pred[TEST_START_INDEX:], color=\"orange\")\n",
    "plt.plot(df.loc[TEST_START_INDEX:, \"date\"], df.loc[TEST_START_INDEX:, RESPONSE_VAR], color = \"blue\")\n",
    "plt.legend(labels=[\"Prediction\", \"Actual\"])"
   ]
  }
 ],
 "metadata": {
  "kernelspec": {
   "display_name": "tier",
   "language": "python",
   "name": "python3"
  },
  "language_info": {
   "codemirror_mode": {
    "name": "ipython",
    "version": 3
   },
   "file_extension": ".py",
   "mimetype": "text/x-python",
   "name": "python",
   "nbconvert_exporter": "python",
   "pygments_lexer": "ipython3",
   "version": "3.8.19"
  }
 },
 "nbformat": 4,
 "nbformat_minor": 5
}
